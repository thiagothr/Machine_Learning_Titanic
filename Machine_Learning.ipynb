{
 "cells": [
  {
   "cell_type": "markdown",
   "metadata": {
    "id": "BbsU-naLyOjT"
   },
   "source": [
    "# Projeto de Machine Learning caso Titanic"
   ]
  },
  {
   "cell_type": "markdown",
   "metadata": {},
   "source": [
    "Projeto de ciência de dados que utiliza técnicas de machine learning, utilizando um conjunto de dados do Titanic do site Kaggle."
   ]
  },
  {
   "cell_type": "code",
   "execution_count": 6,
   "metadata": {
    "id": "1XTeDoKejM6a"
   },
   "outputs": [],
   "source": [
    "import pandas as pd\n",
    "import matplotlib.pyplot as plt\n",
    "import numpy as np\n",
    "import seaborn as sns"
   ]
  },
  {
   "cell_type": "markdown",
   "metadata": {
    "id": "TCuv6pmc1G9t"
   },
   "source": [
    "Leitura dos dados do Titanic"
   ]
  },
  {
   "cell_type": "markdown",
   "metadata": {
    "id": "PaXUi9xb1XH6"
   },
   "source": [
    "1. **train.csv:** Dataset contém 891 observações referentes a passageiros do Titanic.\n",
    "2. **test.csv:** Dataset contém 418 observações e possui a mesma estrutura do `train.csv`, exceto pela não existência da coluna `Survived`."
   ]
  },
  {
   "cell_type": "code",
   "execution_count": 7,
   "metadata": {
    "id": "YxGzZLvqjgeK"
   },
   "outputs": [],
   "source": [
    "df_train = pd.read_csv('train.csv')\n",
    "df_test = pd.read_csv('test.csv')"
   ]
  },
  {
   "cell_type": "code",
   "execution_count": 8,
   "metadata": {},
   "outputs": [
    {
     "data": {
      "text/html": [
       "<div>\n",
       "<style scoped>\n",
       "    .dataframe tbody tr th:only-of-type {\n",
       "        vertical-align: middle;\n",
       "    }\n",
       "\n",
       "    .dataframe tbody tr th {\n",
       "        vertical-align: top;\n",
       "    }\n",
       "\n",
       "    .dataframe thead th {\n",
       "        text-align: right;\n",
       "    }\n",
       "</style>\n",
       "<table border=\"1\" class=\"dataframe\">\n",
       "  <thead>\n",
       "    <tr style=\"text-align: right;\">\n",
       "      <th></th>\n",
       "      <th>PassengerId</th>\n",
       "      <th>Survived</th>\n",
       "      <th>Pclass</th>\n",
       "      <th>Name</th>\n",
       "      <th>Sex</th>\n",
       "      <th>Age</th>\n",
       "      <th>SibSp</th>\n",
       "      <th>Parch</th>\n",
       "      <th>Ticket</th>\n",
       "      <th>Fare</th>\n",
       "      <th>Cabin</th>\n",
       "      <th>Embarked</th>\n",
       "    </tr>\n",
       "  </thead>\n",
       "  <tbody>\n",
       "    <tr>\n",
       "      <th>0</th>\n",
       "      <td>1</td>\n",
       "      <td>0</td>\n",
       "      <td>3</td>\n",
       "      <td>Braund, Mr. Owen Harris</td>\n",
       "      <td>male</td>\n",
       "      <td>22.0</td>\n",
       "      <td>1</td>\n",
       "      <td>0</td>\n",
       "      <td>A/5 21171</td>\n",
       "      <td>7.2500</td>\n",
       "      <td>NaN</td>\n",
       "      <td>S</td>\n",
       "    </tr>\n",
       "    <tr>\n",
       "      <th>1</th>\n",
       "      <td>2</td>\n",
       "      <td>1</td>\n",
       "      <td>1</td>\n",
       "      <td>Cumings, Mrs. John Bradley (Florence Briggs Th...</td>\n",
       "      <td>female</td>\n",
       "      <td>38.0</td>\n",
       "      <td>1</td>\n",
       "      <td>0</td>\n",
       "      <td>PC 17599</td>\n",
       "      <td>71.2833</td>\n",
       "      <td>C85</td>\n",
       "      <td>C</td>\n",
       "    </tr>\n",
       "    <tr>\n",
       "      <th>2</th>\n",
       "      <td>3</td>\n",
       "      <td>1</td>\n",
       "      <td>3</td>\n",
       "      <td>Heikkinen, Miss. Laina</td>\n",
       "      <td>female</td>\n",
       "      <td>26.0</td>\n",
       "      <td>0</td>\n",
       "      <td>0</td>\n",
       "      <td>STON/O2. 3101282</td>\n",
       "      <td>7.9250</td>\n",
       "      <td>NaN</td>\n",
       "      <td>S</td>\n",
       "    </tr>\n",
       "    <tr>\n",
       "      <th>3</th>\n",
       "      <td>4</td>\n",
       "      <td>1</td>\n",
       "      <td>1</td>\n",
       "      <td>Futrelle, Mrs. Jacques Heath (Lily May Peel)</td>\n",
       "      <td>female</td>\n",
       "      <td>35.0</td>\n",
       "      <td>1</td>\n",
       "      <td>0</td>\n",
       "      <td>113803</td>\n",
       "      <td>53.1000</td>\n",
       "      <td>C123</td>\n",
       "      <td>S</td>\n",
       "    </tr>\n",
       "    <tr>\n",
       "      <th>4</th>\n",
       "      <td>5</td>\n",
       "      <td>0</td>\n",
       "      <td>3</td>\n",
       "      <td>Allen, Mr. William Henry</td>\n",
       "      <td>male</td>\n",
       "      <td>35.0</td>\n",
       "      <td>0</td>\n",
       "      <td>0</td>\n",
       "      <td>373450</td>\n",
       "      <td>8.0500</td>\n",
       "      <td>NaN</td>\n",
       "      <td>S</td>\n",
       "    </tr>\n",
       "  </tbody>\n",
       "</table>\n",
       "</div>"
      ],
      "text/plain": [
       "   PassengerId  Survived  Pclass  \\\n",
       "0            1         0       3   \n",
       "1            2         1       1   \n",
       "2            3         1       3   \n",
       "3            4         1       1   \n",
       "4            5         0       3   \n",
       "\n",
       "                                                Name     Sex   Age  SibSp  \\\n",
       "0                            Braund, Mr. Owen Harris    male  22.0      1   \n",
       "1  Cumings, Mrs. John Bradley (Florence Briggs Th...  female  38.0      1   \n",
       "2                             Heikkinen, Miss. Laina  female  26.0      0   \n",
       "3       Futrelle, Mrs. Jacques Heath (Lily May Peel)  female  35.0      1   \n",
       "4                           Allen, Mr. William Henry    male  35.0      0   \n",
       "\n",
       "   Parch            Ticket     Fare Cabin Embarked  \n",
       "0      0         A/5 21171   7.2500   NaN        S  \n",
       "1      0          PC 17599  71.2833   C85        C  \n",
       "2      0  STON/O2. 3101282   7.9250   NaN        S  \n",
       "3      0            113803  53.1000  C123        S  \n",
       "4      0            373450   8.0500   NaN        S  "
      ]
     },
     "execution_count": 8,
     "metadata": {},
     "output_type": "execute_result"
    }
   ],
   "source": [
    "df_train.head()"
   ]
  },
  {
   "cell_type": "code",
   "execution_count": 9,
   "metadata": {},
   "outputs": [
    {
     "data": {
      "text/html": [
       "<div>\n",
       "<style scoped>\n",
       "    .dataframe tbody tr th:only-of-type {\n",
       "        vertical-align: middle;\n",
       "    }\n",
       "\n",
       "    .dataframe tbody tr th {\n",
       "        vertical-align: top;\n",
       "    }\n",
       "\n",
       "    .dataframe thead th {\n",
       "        text-align: right;\n",
       "    }\n",
       "</style>\n",
       "<table border=\"1\" class=\"dataframe\">\n",
       "  <thead>\n",
       "    <tr style=\"text-align: right;\">\n",
       "      <th></th>\n",
       "      <th>PassengerId</th>\n",
       "      <th>Pclass</th>\n",
       "      <th>Name</th>\n",
       "      <th>Sex</th>\n",
       "      <th>Age</th>\n",
       "      <th>SibSp</th>\n",
       "      <th>Parch</th>\n",
       "      <th>Ticket</th>\n",
       "      <th>Fare</th>\n",
       "      <th>Cabin</th>\n",
       "      <th>Embarked</th>\n",
       "    </tr>\n",
       "  </thead>\n",
       "  <tbody>\n",
       "    <tr>\n",
       "      <th>0</th>\n",
       "      <td>892</td>\n",
       "      <td>3</td>\n",
       "      <td>Kelly, Mr. James</td>\n",
       "      <td>male</td>\n",
       "      <td>34.5</td>\n",
       "      <td>0</td>\n",
       "      <td>0</td>\n",
       "      <td>330911</td>\n",
       "      <td>7.8292</td>\n",
       "      <td>NaN</td>\n",
       "      <td>Q</td>\n",
       "    </tr>\n",
       "    <tr>\n",
       "      <th>1</th>\n",
       "      <td>893</td>\n",
       "      <td>3</td>\n",
       "      <td>Wilkes, Mrs. James (Ellen Needs)</td>\n",
       "      <td>female</td>\n",
       "      <td>47.0</td>\n",
       "      <td>1</td>\n",
       "      <td>0</td>\n",
       "      <td>363272</td>\n",
       "      <td>7.0000</td>\n",
       "      <td>NaN</td>\n",
       "      <td>S</td>\n",
       "    </tr>\n",
       "    <tr>\n",
       "      <th>2</th>\n",
       "      <td>894</td>\n",
       "      <td>2</td>\n",
       "      <td>Myles, Mr. Thomas Francis</td>\n",
       "      <td>male</td>\n",
       "      <td>62.0</td>\n",
       "      <td>0</td>\n",
       "      <td>0</td>\n",
       "      <td>240276</td>\n",
       "      <td>9.6875</td>\n",
       "      <td>NaN</td>\n",
       "      <td>Q</td>\n",
       "    </tr>\n",
       "    <tr>\n",
       "      <th>3</th>\n",
       "      <td>895</td>\n",
       "      <td>3</td>\n",
       "      <td>Wirz, Mr. Albert</td>\n",
       "      <td>male</td>\n",
       "      <td>27.0</td>\n",
       "      <td>0</td>\n",
       "      <td>0</td>\n",
       "      <td>315154</td>\n",
       "      <td>8.6625</td>\n",
       "      <td>NaN</td>\n",
       "      <td>S</td>\n",
       "    </tr>\n",
       "    <tr>\n",
       "      <th>4</th>\n",
       "      <td>896</td>\n",
       "      <td>3</td>\n",
       "      <td>Hirvonen, Mrs. Alexander (Helga E Lindqvist)</td>\n",
       "      <td>female</td>\n",
       "      <td>22.0</td>\n",
       "      <td>1</td>\n",
       "      <td>1</td>\n",
       "      <td>3101298</td>\n",
       "      <td>12.2875</td>\n",
       "      <td>NaN</td>\n",
       "      <td>S</td>\n",
       "    </tr>\n",
       "  </tbody>\n",
       "</table>\n",
       "</div>"
      ],
      "text/plain": [
       "   PassengerId  Pclass                                          Name     Sex  \\\n",
       "0          892       3                              Kelly, Mr. James    male   \n",
       "1          893       3              Wilkes, Mrs. James (Ellen Needs)  female   \n",
       "2          894       2                     Myles, Mr. Thomas Francis    male   \n",
       "3          895       3                              Wirz, Mr. Albert    male   \n",
       "4          896       3  Hirvonen, Mrs. Alexander (Helga E Lindqvist)  female   \n",
       "\n",
       "    Age  SibSp  Parch   Ticket     Fare Cabin Embarked  \n",
       "0  34.5      0      0   330911   7.8292   NaN        Q  \n",
       "1  47.0      1      0   363272   7.0000   NaN        S  \n",
       "2  62.0      0      0   240276   9.6875   NaN        Q  \n",
       "3  27.0      0      0   315154   8.6625   NaN        S  \n",
       "4  22.0      1      1  3101298  12.2875   NaN        S  "
      ]
     },
     "execution_count": 9,
     "metadata": {},
     "output_type": "execute_result"
    }
   ],
   "source": [
    "df_test.head()"
   ]
  },
  {
   "cell_type": "code",
   "execution_count": 10,
   "metadata": {},
   "outputs": [
    {
     "data": {
      "text/html": [
       "<div>\n",
       "<style scoped>\n",
       "    .dataframe tbody tr th:only-of-type {\n",
       "        vertical-align: middle;\n",
       "    }\n",
       "\n",
       "    .dataframe tbody tr th {\n",
       "        vertical-align: top;\n",
       "    }\n",
       "\n",
       "    .dataframe thead th {\n",
       "        text-align: right;\n",
       "    }\n",
       "</style>\n",
       "<table border=\"1\" class=\"dataframe\">\n",
       "  <thead>\n",
       "    <tr style=\"text-align: right;\">\n",
       "      <th></th>\n",
       "      <th>PassengerId</th>\n",
       "      <th>Survived</th>\n",
       "      <th>Pclass</th>\n",
       "      <th>Age</th>\n",
       "      <th>SibSp</th>\n",
       "      <th>Parch</th>\n",
       "      <th>Fare</th>\n",
       "    </tr>\n",
       "  </thead>\n",
       "  <tbody>\n",
       "    <tr>\n",
       "      <th>count</th>\n",
       "      <td>891.000000</td>\n",
       "      <td>891.000000</td>\n",
       "      <td>891.000000</td>\n",
       "      <td>714.000000</td>\n",
       "      <td>891.000000</td>\n",
       "      <td>891.000000</td>\n",
       "      <td>891.000000</td>\n",
       "    </tr>\n",
       "    <tr>\n",
       "      <th>mean</th>\n",
       "      <td>446.000000</td>\n",
       "      <td>0.383838</td>\n",
       "      <td>2.308642</td>\n",
       "      <td>29.699118</td>\n",
       "      <td>0.523008</td>\n",
       "      <td>0.381594</td>\n",
       "      <td>32.204208</td>\n",
       "    </tr>\n",
       "    <tr>\n",
       "      <th>std</th>\n",
       "      <td>257.353842</td>\n",
       "      <td>0.486592</td>\n",
       "      <td>0.836071</td>\n",
       "      <td>14.526497</td>\n",
       "      <td>1.102743</td>\n",
       "      <td>0.806057</td>\n",
       "      <td>49.693429</td>\n",
       "    </tr>\n",
       "    <tr>\n",
       "      <th>min</th>\n",
       "      <td>1.000000</td>\n",
       "      <td>0.000000</td>\n",
       "      <td>1.000000</td>\n",
       "      <td>0.420000</td>\n",
       "      <td>0.000000</td>\n",
       "      <td>0.000000</td>\n",
       "      <td>0.000000</td>\n",
       "    </tr>\n",
       "    <tr>\n",
       "      <th>25%</th>\n",
       "      <td>223.500000</td>\n",
       "      <td>0.000000</td>\n",
       "      <td>2.000000</td>\n",
       "      <td>20.125000</td>\n",
       "      <td>0.000000</td>\n",
       "      <td>0.000000</td>\n",
       "      <td>7.910400</td>\n",
       "    </tr>\n",
       "    <tr>\n",
       "      <th>50%</th>\n",
       "      <td>446.000000</td>\n",
       "      <td>0.000000</td>\n",
       "      <td>3.000000</td>\n",
       "      <td>28.000000</td>\n",
       "      <td>0.000000</td>\n",
       "      <td>0.000000</td>\n",
       "      <td>14.454200</td>\n",
       "    </tr>\n",
       "    <tr>\n",
       "      <th>75%</th>\n",
       "      <td>668.500000</td>\n",
       "      <td>1.000000</td>\n",
       "      <td>3.000000</td>\n",
       "      <td>38.000000</td>\n",
       "      <td>1.000000</td>\n",
       "      <td>0.000000</td>\n",
       "      <td>31.000000</td>\n",
       "    </tr>\n",
       "    <tr>\n",
       "      <th>max</th>\n",
       "      <td>891.000000</td>\n",
       "      <td>1.000000</td>\n",
       "      <td>3.000000</td>\n",
       "      <td>80.000000</td>\n",
       "      <td>8.000000</td>\n",
       "      <td>6.000000</td>\n",
       "      <td>512.329200</td>\n",
       "    </tr>\n",
       "  </tbody>\n",
       "</table>\n",
       "</div>"
      ],
      "text/plain": [
       "       PassengerId    Survived      Pclass         Age       SibSp  \\\n",
       "count   891.000000  891.000000  891.000000  714.000000  891.000000   \n",
       "mean    446.000000    0.383838    2.308642   29.699118    0.523008   \n",
       "std     257.353842    0.486592    0.836071   14.526497    1.102743   \n",
       "min       1.000000    0.000000    1.000000    0.420000    0.000000   \n",
       "25%     223.500000    0.000000    2.000000   20.125000    0.000000   \n",
       "50%     446.000000    0.000000    3.000000   28.000000    0.000000   \n",
       "75%     668.500000    1.000000    3.000000   38.000000    1.000000   \n",
       "max     891.000000    1.000000    3.000000   80.000000    8.000000   \n",
       "\n",
       "            Parch        Fare  \n",
       "count  891.000000  891.000000  \n",
       "mean     0.381594   32.204208  \n",
       "std      0.806057   49.693429  \n",
       "min      0.000000    0.000000  \n",
       "25%      0.000000    7.910400  \n",
       "50%      0.000000   14.454200  \n",
       "75%      0.000000   31.000000  \n",
       "max      6.000000  512.329200  "
      ]
     },
     "execution_count": 10,
     "metadata": {},
     "output_type": "execute_result"
    }
   ],
   "source": [
    "df_train.describe()"
   ]
  },
  {
   "cell_type": "code",
   "execution_count": 11,
   "metadata": {},
   "outputs": [
    {
     "data": {
      "text/html": [
       "<div>\n",
       "<style scoped>\n",
       "    .dataframe tbody tr th:only-of-type {\n",
       "        vertical-align: middle;\n",
       "    }\n",
       "\n",
       "    .dataframe tbody tr th {\n",
       "        vertical-align: top;\n",
       "    }\n",
       "\n",
       "    .dataframe thead th {\n",
       "        text-align: right;\n",
       "    }\n",
       "</style>\n",
       "<table border=\"1\" class=\"dataframe\">\n",
       "  <thead>\n",
       "    <tr style=\"text-align: right;\">\n",
       "      <th></th>\n",
       "      <th>PassengerId</th>\n",
       "      <th>Pclass</th>\n",
       "      <th>Age</th>\n",
       "      <th>SibSp</th>\n",
       "      <th>Parch</th>\n",
       "      <th>Fare</th>\n",
       "    </tr>\n",
       "  </thead>\n",
       "  <tbody>\n",
       "    <tr>\n",
       "      <th>count</th>\n",
       "      <td>418.000000</td>\n",
       "      <td>418.000000</td>\n",
       "      <td>332.000000</td>\n",
       "      <td>418.000000</td>\n",
       "      <td>418.000000</td>\n",
       "      <td>417.000000</td>\n",
       "    </tr>\n",
       "    <tr>\n",
       "      <th>mean</th>\n",
       "      <td>1100.500000</td>\n",
       "      <td>2.265550</td>\n",
       "      <td>30.272590</td>\n",
       "      <td>0.447368</td>\n",
       "      <td>0.392344</td>\n",
       "      <td>35.627188</td>\n",
       "    </tr>\n",
       "    <tr>\n",
       "      <th>std</th>\n",
       "      <td>120.810458</td>\n",
       "      <td>0.841838</td>\n",
       "      <td>14.181209</td>\n",
       "      <td>0.896760</td>\n",
       "      <td>0.981429</td>\n",
       "      <td>55.907576</td>\n",
       "    </tr>\n",
       "    <tr>\n",
       "      <th>min</th>\n",
       "      <td>892.000000</td>\n",
       "      <td>1.000000</td>\n",
       "      <td>0.170000</td>\n",
       "      <td>0.000000</td>\n",
       "      <td>0.000000</td>\n",
       "      <td>0.000000</td>\n",
       "    </tr>\n",
       "    <tr>\n",
       "      <th>25%</th>\n",
       "      <td>996.250000</td>\n",
       "      <td>1.000000</td>\n",
       "      <td>21.000000</td>\n",
       "      <td>0.000000</td>\n",
       "      <td>0.000000</td>\n",
       "      <td>7.895800</td>\n",
       "    </tr>\n",
       "    <tr>\n",
       "      <th>50%</th>\n",
       "      <td>1100.500000</td>\n",
       "      <td>3.000000</td>\n",
       "      <td>27.000000</td>\n",
       "      <td>0.000000</td>\n",
       "      <td>0.000000</td>\n",
       "      <td>14.454200</td>\n",
       "    </tr>\n",
       "    <tr>\n",
       "      <th>75%</th>\n",
       "      <td>1204.750000</td>\n",
       "      <td>3.000000</td>\n",
       "      <td>39.000000</td>\n",
       "      <td>1.000000</td>\n",
       "      <td>0.000000</td>\n",
       "      <td>31.500000</td>\n",
       "    </tr>\n",
       "    <tr>\n",
       "      <th>max</th>\n",
       "      <td>1309.000000</td>\n",
       "      <td>3.000000</td>\n",
       "      <td>76.000000</td>\n",
       "      <td>8.000000</td>\n",
       "      <td>9.000000</td>\n",
       "      <td>512.329200</td>\n",
       "    </tr>\n",
       "  </tbody>\n",
       "</table>\n",
       "</div>"
      ],
      "text/plain": [
       "       PassengerId      Pclass         Age       SibSp       Parch        Fare\n",
       "count   418.000000  418.000000  332.000000  418.000000  418.000000  417.000000\n",
       "mean   1100.500000    2.265550   30.272590    0.447368    0.392344   35.627188\n",
       "std     120.810458    0.841838   14.181209    0.896760    0.981429   55.907576\n",
       "min     892.000000    1.000000    0.170000    0.000000    0.000000    0.000000\n",
       "25%     996.250000    1.000000   21.000000    0.000000    0.000000    7.895800\n",
       "50%    1100.500000    3.000000   27.000000    0.000000    0.000000   14.454200\n",
       "75%    1204.750000    3.000000   39.000000    1.000000    0.000000   31.500000\n",
       "max    1309.000000    3.000000   76.000000    8.000000    9.000000  512.329200"
      ]
     },
     "execution_count": 11,
     "metadata": {},
     "output_type": "execute_result"
    }
   ],
   "source": [
    "df_test.describe()"
   ]
  },
  {
   "cell_type": "markdown",
   "metadata": {
    "id": "siXfV-W935d5"
   },
   "source": [
    "Essa etapa consiste na correção de dados incorretos, incompletos, irrelevantes, duplicados ou formatados incorretamente, caso existam."
   ]
  },
  {
   "cell_type": "code",
   "execution_count": 12,
   "metadata": {
    "colab": {
     "base_uri": "https://localhost:8080/"
    },
    "id": "kNr6E6pg4LEj",
    "outputId": "6b360d3a-a960-4720-ebe8-6cf237fb8327"
   },
   "outputs": [
    {
     "name": "stdout",
     "output_type": "stream",
     "text": [
      "CONJUNTO DE TREINO\n",
      "Número de amostras: 891\n",
      "Atributos: 12\n",
      "\n",
      "CONJUNTO DE TESTE\n",
      "Número de amostras: 418\n",
      "Atributos: 11\n"
     ]
    }
   ],
   "source": [
    "# Identifica o número de amostras e atributos nos conjuntos de treino e teste\n",
    "print(\"CONJUNTO DE TREINO\")\n",
    "print(\"Número de amostras:\", df_train.shape[0])\n",
    "print(\"Atributos:\", df_train.shape[1])\n",
    "\n",
    "print(\"\\nCONJUNTO DE TESTE\")\n",
    "print(\"Número de amostras:\", df_test.shape[0])\n",
    "print(\"Atributos:\", df_test.shape[1])"
   ]
  },
  {
   "cell_type": "code",
   "execution_count": 13,
   "metadata": {
    "colab": {
     "base_uri": "https://localhost:8080/"
    },
    "id": "S9k5Gf-P5dsl",
    "outputId": "c0c81813-7f14-4e11-bf10-4f36c1532aca"
   },
   "outputs": [
    {
     "name": "stdout",
     "output_type": "stream",
     "text": [
      "<class 'pandas.core.frame.DataFrame'>\n",
      "RangeIndex: 891 entries, 0 to 890\n",
      "Data columns (total 12 columns):\n",
      " #   Column       Non-Null Count  Dtype  \n",
      "---  ------       --------------  -----  \n",
      " 0   PassengerId  891 non-null    int64  \n",
      " 1   Survived     891 non-null    int64  \n",
      " 2   Pclass       891 non-null    int64  \n",
      " 3   Name         891 non-null    object \n",
      " 4   Sex          891 non-null    object \n",
      " 5   Age          714 non-null    float64\n",
      " 6   SibSp        891 non-null    int64  \n",
      " 7   Parch        891 non-null    int64  \n",
      " 8   Ticket       891 non-null    object \n",
      " 9   Fare         891 non-null    float64\n",
      " 10  Cabin        204 non-null    object \n",
      " 11  Embarked     889 non-null    object \n",
      "dtypes: float64(2), int64(5), object(5)\n",
      "memory usage: 83.7+ KB\n"
     ]
    }
   ],
   "source": [
    "df_train.info()"
   ]
  },
  {
   "cell_type": "code",
   "execution_count": 14,
   "metadata": {
    "colab": {
     "base_uri": "https://localhost:8080/"
    },
    "id": "bzkGAaWwFcQh",
    "outputId": "a48f50fe-a3fe-4d5b-d982-3a2b757a018f"
   },
   "outputs": [
    {
     "name": "stdout",
     "output_type": "stream",
     "text": [
      "<class 'pandas.core.frame.DataFrame'>\n",
      "RangeIndex: 418 entries, 0 to 417\n",
      "Data columns (total 11 columns):\n",
      " #   Column       Non-Null Count  Dtype  \n",
      "---  ------       --------------  -----  \n",
      " 0   PassengerId  418 non-null    int64  \n",
      " 1   Pclass       418 non-null    int64  \n",
      " 2   Name         418 non-null    object \n",
      " 3   Sex          418 non-null    object \n",
      " 4   Age          332 non-null    float64\n",
      " 5   SibSp        418 non-null    int64  \n",
      " 6   Parch        418 non-null    int64  \n",
      " 7   Ticket       418 non-null    object \n",
      " 8   Fare         417 non-null    float64\n",
      " 9   Cabin        91 non-null     object \n",
      " 10  Embarked     418 non-null    object \n",
      "dtypes: float64(2), int64(4), object(5)\n",
      "memory usage: 36.1+ KB\n"
     ]
    }
   ],
   "source": [
    "df_test.info()"
   ]
  },
  {
   "cell_type": "markdown",
   "metadata": {
    "id": "i5wcfeTf5o_E"
   },
   "source": [
    "Verifica-se, para ambos os conjuntos de treino e teste, que há atributos com valores nulos. Além disso, os tipos dos atributos estão coerentes de acordo com seu tipo de informação.\n",
    "\n",
    "Agora, vamos identificar a quantidade de valores únicos nos atributos dos conjuntos de dados:"
   ]
  },
  {
   "cell_type": "markdown",
   "metadata": {
    "id": "-DyZ48vxKiGu"
   },
   "source": [
    "## Verificação de registros duplicados"
   ]
  },
  {
   "cell_type": "code",
   "execution_count": 15,
   "metadata": {
    "colab": {
     "base_uri": "https://localhost:8080/"
    },
    "id": "ltOZWhITp5y3",
    "outputId": "c56b62f8-c447-4d78-d441-682abac8bbce"
   },
   "outputs": [
    {
     "name": "stdout",
     "output_type": "stream",
     "text": [
      "CONJUNTO DE TREINO\n",
      "\n",
      "PassengerId    891\n",
      "Survived         2\n",
      "Pclass           3\n",
      "Name           891\n",
      "Sex              2\n",
      "Age             88\n",
      "SibSp            7\n",
      "Parch            7\n",
      "Ticket         681\n",
      "Fare           248\n",
      "Cabin          147\n",
      "Embarked         3\n",
      "dtype: int64\n",
      "\n",
      "CONJUNTO DE TESTE\n",
      "\n",
      "PassengerId    418\n",
      "Pclass           3\n",
      "Name           418\n",
      "Sex              2\n",
      "Age             79\n",
      "SibSp            7\n",
      "Parch            8\n",
      "Ticket         363\n",
      "Fare           169\n",
      "Cabin           76\n",
      "Embarked         3\n",
      "dtype: int64\n"
     ]
    }
   ],
   "source": [
    "print(\"CONJUNTO DE TREINO\\n\")\n",
    "print(df_train.nunique())\n",
    "\n",
    "print(\"\\nCONJUNTO DE TESTE\\n\")\n",
    "print(df_test.nunique())"
   ]
  },
  {
   "cell_type": "markdown",
   "metadata": {
    "id": "wLssgHlAqhlh"
   },
   "source": [
    "Para ambos os conjuntos, `PassengerId` possui a mesma quantidade de valores únicos que o número total de amostras, indicando que não há duplicação de registros nos conjuntos."
   ]
  },
  {
   "cell_type": "markdown",
   "metadata": {
    "id": "F2fhNnFXGYUQ"
   },
   "source": [
    "## Valores nulos"
   ]
  },
  {
   "cell_type": "markdown",
   "metadata": {
    "id": "cxzUehy4GeMM"
   },
   "source": [
    "Vamos verificar quais atributos possuem valores nulos, para ambos os conjuntos de treino e teste:"
   ]
  },
  {
   "cell_type": "code",
   "execution_count": 16,
   "metadata": {
    "colab": {
     "base_uri": "https://localhost:8080/"
    },
    "id": "Hsy56mNC6H_K",
    "outputId": "5302e731-a3c5-45c6-a332-8ea2b87e8ec5"
   },
   "outputs": [
    {
     "name": "stdout",
     "output_type": "stream",
     "text": [
      "TREINO\n",
      "\n",
      "Quantidade de valores nulos\n",
      "\n",
      "PassengerId      0\n",
      "Survived         0\n",
      "Pclass           0\n",
      "Name             0\n",
      "Sex              0\n",
      "Age            177\n",
      "SibSp            0\n",
      "Parch            0\n",
      "Ticket           0\n",
      "Fare             0\n",
      "Cabin          687\n",
      "Embarked         2\n",
      "dtype: int64\n",
      "\n",
      "Porcentagem de valores nulos\n",
      "\n",
      "Cabin       77.10\n",
      "Age         19.87\n",
      "Embarked     0.22\n",
      "dtype: float64\n"
     ]
    }
   ],
   "source": [
    "valores_nulos_treino = df_train.isnull().sum()\n",
    "\n",
    "print(\"TREINO\")\n",
    "\n",
    "print(\"\\nQuantidade de valores nulos\\n\")\n",
    "print(valores_nulos_treino)\n",
    "\n",
    "print(\"\\nPorcentagem de valores nulos\\n\")\n",
    "print((valores_nulos_treino[valores_nulos_treino > 0] / df_train.shape[0] * 100).round(2).sort_values(ascending=False))"
   ]
  },
  {
   "cell_type": "markdown",
   "metadata": {
    "id": "0pObg8SxCg0L"
   },
   "source": [
    "Nota-se que o atributo `Cabin` possui uma grande quantidade de valores nulos.\n",
    "\n",
    "O atributo `Age`, que pode ser importante para identificar os sobreviventes do acidente, possui aproximadamente 20% de valores nulos.\n",
    "\n",
    "O atributo `Embarked` possui poucas amostras nulas, que não chegam a nem 1% do total de amostras."
   ]
  },
  {
   "cell_type": "code",
   "execution_count": 17,
   "metadata": {
    "colab": {
     "base_uri": "https://localhost:8080/"
    },
    "id": "cLZ7S2Ec9KTv",
    "outputId": "27fa6533-6a05-49e9-e134-13f72f8accee"
   },
   "outputs": [
    {
     "name": "stdout",
     "output_type": "stream",
     "text": [
      "TESTE\n",
      "\n",
      "Quantidade de valores nulos\n",
      "\n",
      "PassengerId      0\n",
      "Pclass           0\n",
      "Name             0\n",
      "Sex              0\n",
      "Age             86\n",
      "SibSp            0\n",
      "Parch            0\n",
      "Ticket           0\n",
      "Fare             1\n",
      "Cabin          327\n",
      "Embarked         0\n",
      "dtype: int64\n",
      "\n",
      "Porcentagem de valores nulos\n",
      "\n",
      "Cabin    78.23\n",
      "Age      20.57\n",
      "Fare      0.24\n",
      "dtype: float64\n"
     ]
    }
   ],
   "source": [
    "valores_nulos_teste = df_test.isnull().sum()\n",
    "\n",
    "print(\"TESTE\")\n",
    "\n",
    "print(\"\\nQuantidade de valores nulos\\n\")\n",
    "print(valores_nulos_teste)\n",
    "\n",
    "print(\"\\nPorcentagem de valores nulos\\n\")\n",
    "print((valores_nulos_teste[valores_nulos_teste > 0] / df_test.shape[0] * 100).round(2).sort_values(ascending=False))"
   ]
  },
  {
   "cell_type": "markdown",
   "metadata": {
    "id": "i4kjMqATCjDx"
   },
   "source": [
    "O conjunto de teste possui uma proporção de valores nulos muito semelhante à distribuição de valores nulos na partição de treino."
   ]
  },
  {
   "cell_type": "markdown",
   "metadata": {
    "id": "XvdI7CENRhLm"
   },
   "source": [
    "### Dataframe `dummy`"
   ]
  },
  {
   "cell_type": "markdown",
   "metadata": {
    "id": "GvI46L5hRmTX"
   },
   "source": [
    "Uma cópia do conjunto de dados de treino com valores `dummy` será criada, com o nome de `df_train_dummy`.\n",
    "\n",
    "Nessa cópia, valores nulos do atributo `Age` serão substituídos por um valor fictício e irreal para o contexto analisado. Esse Dataframe permitirá que esses dados sejam visualizados graficamente sem que haja alteração dos valores corretos."
   ]
  },
  {
   "cell_type": "code",
   "execution_count": 18,
   "metadata": {
    "id": "oLk0yFbNRg4w"
   },
   "outputs": [],
   "source": [
    "# Criação da cópia do DataFrame df_train\n",
    "df_train_dummy = df_train.copy()\n",
    "\n",
    "# Agora, vamos substituir todos os valores ausentes na coluna 'Age' por 100\n",
    "df_train_dummy['Age'] = df_train_dummy['Age'].fillna(100)"
   ]
  },
  {
   "cell_type": "markdown",
   "metadata": {
    "id": "D391xfdEG03P"
   },
   "source": [
    "### Tratamento de valores nulos"
   ]
  },
  {
   "cell_type": "markdown",
   "metadata": {
    "id": "kOFbtCl4VJiM"
   },
   "source": [
    "#### Tratamento de Idade"
   ]
  },
  {
   "cell_type": "markdown",
   "metadata": {
    "id": "-TmHpMWjNJ0P"
   },
   "source": [
    "Os valores nulos do atributo `Age` serão substituídos pela sua mediana agrupada por `Sex`:"
   ]
  },
  {
   "cell_type": "code",
   "execution_count": 19,
   "metadata": {
    "colab": {
     "base_uri": "https://localhost:8080/"
    },
    "id": "lOGL-nz3OM5B",
    "outputId": "c2578e0f-2737-4358-d3a7-4dcc3d0936d2"
   },
   "outputs": [
    {
     "name": "stdout",
     "output_type": "stream",
     "text": [
      "Mediana da idade agrupada por sexo\n",
      "\n",
      "TREINO\n",
      "Sex\n",
      "female    27.0\n",
      "male      29.0\n",
      "Name: Age, dtype: float64\n",
      "\n",
      "TESTE\n",
      "Sex\n",
      "female    27.0\n",
      "male      27.0\n",
      "Name: Age, dtype: float64\n"
     ]
    }
   ],
   "source": [
    "print(\"Mediana da idade agrupada por sexo\")\n",
    "\n",
    "print(\"\\nTREINO\")\n",
    "print(df_train.groupby('Sex').median(numeric_only=True)['Age'])\n",
    "\n",
    "print(\"\\nTESTE\")\n",
    "print(df_test.groupby('Sex').median(numeric_only=True)['Age'])"
   ]
  },
  {
   "cell_type": "code",
   "execution_count": 20,
   "metadata": {
    "id": "efL2HE17KYLH"
   },
   "outputs": [],
   "source": [
    "# Substituição de valores nulos da idade pelo valor da mediana agrupada por sexo\n",
    "df_train['Age'] = df_train['Age'].fillna(value=df_train.groupby('Sex')['Age'].transform('median', numeric_only=True))\n",
    "df_test['Age'] = df_test['Age'].fillna(value=df_test.groupby('Sex')['Age'].transform('median', numeric_only=True))"
   ]
  },
  {
   "cell_type": "code",
   "execution_count": 21,
   "metadata": {
    "colab": {
     "base_uri": "https://localhost:8080/"
    },
    "id": "UX1P7VtEQOFF",
    "outputId": "9ff406a1-c633-4b96-8e5c-72893e2c5581"
   },
   "outputs": [
    {
     "name": "stdout",
     "output_type": "stream",
     "text": [
      "Quantidade de valores nulos para 'Age' no treino: 0\n"
     ]
    },
    {
     "data": {
      "text/html": [
       "<div>\n",
       "<style scoped>\n",
       "    .dataframe tbody tr th:only-of-type {\n",
       "        vertical-align: middle;\n",
       "    }\n",
       "\n",
       "    .dataframe tbody tr th {\n",
       "        vertical-align: top;\n",
       "    }\n",
       "\n",
       "    .dataframe thead th {\n",
       "        text-align: right;\n",
       "    }\n",
       "</style>\n",
       "<table border=\"1\" class=\"dataframe\">\n",
       "  <thead>\n",
       "    <tr style=\"text-align: right;\">\n",
       "      <th></th>\n",
       "      <th>PassengerId</th>\n",
       "      <th>Survived</th>\n",
       "      <th>Pclass</th>\n",
       "      <th>Name</th>\n",
       "      <th>Sex</th>\n",
       "      <th>Age</th>\n",
       "      <th>SibSp</th>\n",
       "      <th>Parch</th>\n",
       "      <th>Ticket</th>\n",
       "      <th>Fare</th>\n",
       "      <th>Cabin</th>\n",
       "      <th>Embarked</th>\n",
       "    </tr>\n",
       "  </thead>\n",
       "  <tbody>\n",
       "  </tbody>\n",
       "</table>\n",
       "</div>"
      ],
      "text/plain": [
       "Empty DataFrame\n",
       "Columns: [PassengerId, Survived, Pclass, Name, Sex, Age, SibSp, Parch, Ticket, Fare, Cabin, Embarked]\n",
       "Index: []"
      ]
     },
     "execution_count": 21,
     "metadata": {},
     "output_type": "execute_result"
    }
   ],
   "source": [
    "# Verifica se os valores nulos foram substituídos (TREINO)\n",
    "valores_nulos_idade_treino = df_train[df_train['Age'].isnull()]\n",
    "\n",
    "print(\"Quantidade de valores nulos para 'Age' no treino:\", len(valores_nulos_idade_treino))\n",
    "valores_nulos_idade_treino"
   ]
  },
  {
   "cell_type": "code",
   "execution_count": 22,
   "metadata": {
    "colab": {
     "base_uri": "https://localhost:8080/"
    },
    "id": "5tIm6HNFQq1S",
    "outputId": "256e4406-3f79-401d-e6b8-adbfffc6509d"
   },
   "outputs": [
    {
     "name": "stdout",
     "output_type": "stream",
     "text": [
      "Quantidade de valores nulos para 'Age' no teste: 0\n"
     ]
    },
    {
     "data": {
      "text/html": [
       "<div>\n",
       "<style scoped>\n",
       "    .dataframe tbody tr th:only-of-type {\n",
       "        vertical-align: middle;\n",
       "    }\n",
       "\n",
       "    .dataframe tbody tr th {\n",
       "        vertical-align: top;\n",
       "    }\n",
       "\n",
       "    .dataframe thead th {\n",
       "        text-align: right;\n",
       "    }\n",
       "</style>\n",
       "<table border=\"1\" class=\"dataframe\">\n",
       "  <thead>\n",
       "    <tr style=\"text-align: right;\">\n",
       "      <th></th>\n",
       "      <th>PassengerId</th>\n",
       "      <th>Pclass</th>\n",
       "      <th>Name</th>\n",
       "      <th>Sex</th>\n",
       "      <th>Age</th>\n",
       "      <th>SibSp</th>\n",
       "      <th>Parch</th>\n",
       "      <th>Ticket</th>\n",
       "      <th>Fare</th>\n",
       "      <th>Cabin</th>\n",
       "      <th>Embarked</th>\n",
       "    </tr>\n",
       "  </thead>\n",
       "  <tbody>\n",
       "  </tbody>\n",
       "</table>\n",
       "</div>"
      ],
      "text/plain": [
       "Empty DataFrame\n",
       "Columns: [PassengerId, Pclass, Name, Sex, Age, SibSp, Parch, Ticket, Fare, Cabin, Embarked]\n",
       "Index: []"
      ]
     },
     "execution_count": 22,
     "metadata": {},
     "output_type": "execute_result"
    }
   ],
   "source": [
    "# Verifica se os valores nulos foram substituídos (TESTE)\n",
    "valores_nulos_idade_teste = df_test[df_test['Age'].isnull()]\n",
    "\n",
    "print(\"Quantidade de valores nulos para 'Age' no teste:\", len(valores_nulos_idade_teste))\n",
    "valores_nulos_idade_teste"
   ]
  },
  {
   "cell_type": "markdown",
   "metadata": {
    "id": "3asVU8JcV5Nu"
   },
   "source": [
    "#### Tratamento de Cabine"
   ]
  },
  {
   "cell_type": "markdown",
   "metadata": {
    "id": "TpWfaxpLWbh0"
   },
   "source": [
    "Para o atributo `Cabin`, todos os valores nulos serão substituídos por `NI`, que indica \"Não informado\"."
   ]
  },
  {
   "cell_type": "code",
   "execution_count": 23,
   "metadata": {
    "id": "4kiLJv9cWPNS"
   },
   "outputs": [],
   "source": [
    "# Substituir os valores ausentes na coluna 'Cabin' por NI (Não informado)\n",
    "df_train['Cabin'] = df_train['Cabin'].fillna('NI')\n",
    "df_test['Cabin'] = df_test['Cabin'].fillna('NI')"
   ]
  },
  {
   "cell_type": "code",
   "execution_count": 24,
   "metadata": {
    "colab": {
     "base_uri": "https://localhost:8080/"
    },
    "id": "ftmRTqu_XJAC",
    "outputId": "0f83eef4-3643-4dc9-841b-42e866816569"
   },
   "outputs": [
    {
     "name": "stdout",
     "output_type": "stream",
     "text": [
      "Quantidade de dados nulos após substituição (TREINO): 0\n",
      "Quantidade de dados nulos após substituição (TESTE): 0\n"
     ]
    }
   ],
   "source": [
    "print(\"Quantidade de dados nulos após substituição (TREINO):\", df_train['Cabin'].isnull().sum())\n",
    "print(\"Quantidade de dados nulos após substituição (TESTE):\", df_test['Cabin'].isnull().sum())"
   ]
  },
  {
   "cell_type": "markdown",
   "metadata": {
    "id": "PtmSzBiaYrvM"
   },
   "source": [
    "#### Tratamento do Local de Embarque"
   ]
  },
  {
   "cell_type": "markdown",
   "metadata": {
    "id": "u_UL59d2ZBlr"
   },
   "source": [
    "Assim como o atributo `Cabin`, o atributo `Embarked` terá todos os valores nulos serão substituídos por NI, que indica \"Não informado\".\n",
    "\n",
    "Apenas o conjunto de treino terá valores alterados, visto que o conjunto de teste não possui valores nulos para esse atributo."
   ]
  },
  {
   "cell_type": "code",
   "execution_count": 25,
   "metadata": {
    "id": "cujbCqu9YE2E"
   },
   "outputs": [],
   "source": [
    "# Substituir os valores ausentes na coluna 'Embarked' por NI (Não informado)\n",
    "df_train['Embarked'] = df_train['Embarked'].fillna('NI')"
   ]
  },
  {
   "cell_type": "code",
   "execution_count": 26,
   "metadata": {
    "colab": {
     "base_uri": "https://localhost:8080/"
    },
    "id": "78iDV3ytZYyf",
    "outputId": "0a6897d1-cc04-4248-bfe9-bfc80751f44a"
   },
   "outputs": [
    {
     "name": "stdout",
     "output_type": "stream",
     "text": [
      "Quantidade de dados nulos após substituição (TREINO): 0\n"
     ]
    }
   ],
   "source": [
    "print(\"Quantidade de dados nulos após substituição (TREINO):\", df_train['Embarked'].isnull().sum())"
   ]
  },
  {
   "cell_type": "markdown",
   "metadata": {
    "id": "dsZ5pRZ9tUVi"
   },
   "source": [
    "#### Tratamento da Tarifa"
   ]
  },
  {
   "cell_type": "markdown",
   "metadata": {
    "id": "onyYR-mjtuAX"
   },
   "source": [
    "Assim como o atributo `Age`, os valores nulos de `Fare` serão substituídos por sua mediana.\n",
    "\n",
    "Apenas o conjunto de teste terá valores alterados, visto que o conjunto de treino não possui valores nulos para esse atributo."
   ]
  },
  {
   "cell_type": "code",
   "execution_count": 27,
   "metadata": {
    "id": "-doYJwwmtlEn"
   },
   "outputs": [],
   "source": [
    "# Substituição de valores nulos de 'Fare' por sua mediana\n",
    "mediana_fare_teste = df_test['Fare'].median()\n",
    "df_test['Fare'] = df_test['Fare'].fillna(mediana_fare_teste)"
   ]
  },
  {
   "cell_type": "markdown",
   "metadata": {
    "id": "_tQClp1EuM_5"
   },
   "source": [
    "## Análise Exploratória de Dados"
   ]
  },
  {
   "cell_type": "markdown",
   "metadata": {},
   "source": [
    "Nessa etapa, os atributos serão analisados por meio de diferentes tipos de gráfico."
   ]
  },
  {
   "cell_type": "markdown",
   "metadata": {},
   "source": [
    "### **Gráfico de Distribuição de Classes**"
   ]
  },
  {
   "cell_type": "code",
   "execution_count": 28,
   "metadata": {
    "colab": {
     "base_uri": "https://localhost:8080/",
     "height": 719
    },
    "id": "Ux6a3E4sg00d",
    "outputId": "a846eba0-bf05-4e70-c912-a17383629f03"
   },
   "outputs": [
    {
     "data": {
      "image/png": "[encoded data removed]",
      "text/plain": [
       "<Figure size 800x800 with 1 Axes>"
      ]
     },
     "metadata": {},
     "output_type": "display_data"
    }
   ],
   "source": [
    "cores_barras = ['#FF7761', '#5b9bd5']\n",
    "\n",
    "plt.figure(figsize=(8, 8))\n",
    "ax = sns.countplot(x='Survived', data=df_train, hue='Survived', legend=False, palette=cores_barras)\n",
    "\n",
    "# Adicionar anotações com o número de contagem\n",
    "for p in ax.patches:\n",
    "    count = int(p.get_height())\n",
    "    x = p.get_x() + p.get_width() / 2\n",
    "    y = p.get_height()\n",
    "    ax.annotate(f'{count}', (x, y), ha='center', va='center',\n",
    "                fontsize=11, color='black', xytext=(0, 10), textcoords='offset points')\n",
    "\n",
    "plt.title('Número de Passageiros que Sobreviveram e Não Sobreviveram')\n",
    "plt.xlabel('Sobreviveu')\n",
    "plt.ylabel('Contagem')\n",
    "plt.xticks([0, 1], ['Não', 'Sim'])\n",
    "\n",
    "plt.show()"
   ]
  },
  {
   "cell_type": "markdown",
   "metadata": {
    "id": "BWs_nfKq82L3"
   },
   "source": [
    "### Atributo Sexo"
   ]
  },
  {
   "cell_type": "markdown",
   "metadata": {},
   "source": [
    "#### **Gráfico de Sobreviventes vs Não Sobreviventes por Sexo**"
   ]
  },
  {
   "cell_type": "code",
   "execution_count": 29,
   "metadata": {
    "colab": {
     "base_uri": "https://localhost:8080/",
     "height": 472
    },
    "id": "oRvN3tHLh3b7",
    "outputId": "4b446ec8-a953-4120-d549-bec883388f48"
   },
   "outputs": [
    {
     "data": {
      "image/png": "[encoded data removed]",
      "text/plain": [
       "<Figure size 640x480 with 1 Axes>"
      ]
     },
     "metadata": {},
     "output_type": "display_data"
    }
   ],
   "source": [
    "# Gráfico de barras empilhadas: quantidade de pessoas que sobreviveram por sexo\n",
    "sobrev_sexo = df_train.groupby(['Sex', 'Survived']).size().unstack()\n",
    "sobrev_sexo = sobrev_sexo.sort_index(ascending=False)\n",
    "\n",
    "sobrev_sexo.plot(kind='bar', stacked=True, color=['#FF7761', '#5b9bd5'])\n",
    "\n",
    "plt.title('Sobreviventes vs Não Sobreviventes por Sexo')\n",
    "plt.xlabel('Sexo')\n",
    "plt.ylabel('Quantidade')\n",
    "\n",
    "plt.xticks(ticks=[0, 1], labels=['Masculino', 'Feminino'], rotation=0)\n",
    "plt.legend(['Não sobreviveu', 'Sobreviveu'])\n",
    "\n",
    "plt.show()"
   ]
  },
  {
   "cell_type": "markdown",
   "metadata": {
    "id": "zubtgm7IoVFj"
   },
   "source": [
    "### Atributo Idade"
   ]
  },
  {
   "cell_type": "markdown",
   "metadata": {},
   "source": [
    "#### **Gráfico de Distribuição de Idade**"
   ]
  },
  {
   "cell_type": "code",
   "execution_count": 30,
   "metadata": {},
   "outputs": [
    {
     "data": {
      "image/png": "[encoded data removed]",
      "text/plain": [
       "<Figure size 1000x700 with 1 Axes>"
      ]
     },
     "metadata": {},
     "output_type": "display_data"
    }
   ],
   "source": [
    "plt.figure(figsize=(10, 7))\n",
    "\n",
    "# Calcula a média das idades excluindo os valores dummy\n",
    "idade_media = df_train_dummy[df_train_dummy['Age'] != 100]['Age'].mean()\n",
    "\n",
    "# Plotar histograma para as idades que não são dummy\n",
    "sns.histplot(df_train_dummy[df_train_dummy['Age'] != 100]['Age'], bins=20, kde=True, color='#5b9bd5')\n",
    "\n",
    "# Plotar a barra para os valores dummy\n",
    "contagem_nao_informada = df_train_dummy['Age'].value_counts()[100]\n",
    "plt.bar(100, contagem_nao_informada, color='#FF7761', width=4) \n",
    "\n",
    "# Desenhar a linha de média\n",
    "plt.axvline(idade_media, color='k', linestyle='--', linewidth=1)\n",
    "\n",
    "# Adicionar anotação para a linha de média um pouco para o lado\n",
    "plt.text(idade_media + 2, plt.gca().get_ylim()[1] * 0.75, f'Média: {idade_media:.1f}', \n",
    "         ha='left', va='center', backgroundcolor='white')\n",
    "\n",
    "# Adicionar anotação para a barra de valores dummy, garantindo que não toque nas bordas do gráfico\n",
    "plt.text(100, contagem_nao_informada + plt.gca().get_ylim()[1] * 0.01, 'Não informada', \n",
    "         ha='center', va='bottom', color='black')\n",
    "\n",
    "plt.title('Distribuição de Idade')\n",
    "plt.xlabel('Idade')\n",
    "plt.ylabel('Quantidade')\n",
    "plt.xlim(1, max(df_train_dummy['Age']) + 10)\n",
    "plt.tight_layout()  # Ajusta o layout para garantir que o texto não toque na borda do gráfico\n",
    "\n",
    "plt.show()"
   ]
  },
  {
   "cell_type": "markdown",
   "metadata": {},
   "source": [
    "#### **Gráfico de Sobrevivência por Faixa Etária**"
   ]
  },
  {
   "cell_type": "code",
   "execution_count": 31,
   "metadata": {
    "id": "CEMene2Pu2Gm"
   },
   "outputs": [],
   "source": [
    "bins = [0, 12, 18, 60, 99,101]\n",
    "labels = ['Criança', 'Jovem', 'Adulto', 'Idoso', 'Não informado']\n",
    "df_train_dummy['Faixa_Etaria'] = pd.cut(df_train_dummy['Age'], bins=bins, labels=labels, right=False)"
   ]
  },
  {
   "cell_type": "code",
   "execution_count": 32,
   "metadata": {
    "colab": {
     "base_uri": "https://localhost:8080/",
     "height": 505
    },
    "id": "R72g_SRDvXH8",
    "outputId": "5f5498d6-8187-4f60-dc0f-2174927f8e13"
   },
   "outputs": [
    {
     "data": {
      "text/plain": [
       "<Figure size 1000x1100 with 0 Axes>"
      ]
     },
     "metadata": {},
     "output_type": "display_data"
    },
    {
     "data": {
      "image/png": "[encoded data removed]",
      "text/plain": [
       "<Figure size 640x480 with 1 Axes>"
      ]
     },
     "metadata": {},
     "output_type": "display_data"
    }
   ],
   "source": [
    "age_survival = df_train_dummy.groupby(['Faixa_Etaria', 'Survived'], observed=True).size().unstack()\n",
    "\n",
    "plt.figure(figsize=(10, 11))\n",
    "age_survival.plot(kind='bar', stacked=True, color=['#FF7761', '#5b9bd5'])\n",
    "\n",
    "plt.title('Sobrevivência por Faixa Etária')\n",
    "plt.xlabel('Faixa Etária')\n",
    "plt.ylabel('Quantidade')\n",
    "plt.xticks(rotation=0)\n",
    "plt.legend(['Não Sobreviveu', 'Sobreviveu'], loc='upper right', fontsize='small')\n",
    "plt.tight_layout()\n",
    "\n",
    "plt.show()"
   ]
  },
  {
   "cell_type": "markdown",
   "metadata": {
    "id": "_QBUff918Rhf"
   },
   "source": [
    "### Atributo Classe"
   ]
  },
  {
   "cell_type": "markdown",
   "metadata": {},
   "source": [
    "#### **Gráfico de Quantidade de Pessoas a Bordo por Classe de Passageiro**"
   ]
  },
  {
   "cell_type": "code",
   "execution_count": 33,
   "metadata": {},
   "outputs": [
    {
     "data": {
      "image/png": "[encoded data removed]",
      "text/plain": [
       "<Figure size 1400x600 with 1 Axes>"
      ]
     },
     "metadata": {},
     "output_type": "display_data"
    }
   ],
   "source": [
    "# Contagem da quantidade de pessoas por classe\n",
    "qtd_classes = df_train['Pclass'].value_counts()\n",
    "qtd_classes = qtd_classes.sort_index(ascending=False)\n",
    "\n",
    "# Nomes das classes para legenda\n",
    "legenda_classe = [f'{int(classe)}ª' for classe, count in qtd_classes.items()]\n",
    "legenda_classe.sort(reverse=True)\n",
    "\n",
    "# Criação do gráfico de barras\n",
    "plt.figure(figsize=(14, 6))\n",
    "bars = plt.barh(legenda_classe, qtd_classes, color=['#FF7761', '#FDC23E','#C2BAC2'])\n",
    "\n",
    "plt.title('Quantidade de Pessoas a Bordo por Classe de Passageiro')\n",
    "plt.ylabel('Classe')\n",
    "plt.xlabel('Quantidade')\n",
    "\n",
    "# Calcular o total para a porcentagem\n",
    "total = sum(qtd_classes)\n",
    "\n",
    "# Adicionar anotação de porcentagem\n",
    "for bar in bars:\n",
    "    plt.text(bar.get_width(), bar.get_y() + bar.get_height() / 2,\n",
    "             f' {bar.get_width()/total:.1%}',\n",
    "             va='center', ha='left')\n",
    "\n",
    "plt.show()"
   ]
  },
  {
   "cell_type": "markdown",
   "metadata": {},
   "source": [
    "#### **Gráfico de Sobrevivência por Classe de Passageiro**"
   ]
  },
  {
   "cell_type": "code",
   "execution_count": 34,
   "metadata": {
    "colab": {
     "base_uri": "https://localhost:8080/",
     "height": 490
    },
    "id": "O-T-Tn8d9wQE",
    "outputId": "f372ee12-cb5a-49bc-ce30-b5316c1b4c2a"
   },
   "outputs": [
    {
     "data": {
      "text/plain": [
       "<Figure size 1000x800 with 0 Axes>"
      ]
     },
     "metadata": {},
     "output_type": "display_data"
    },
    {
     "data": {
      "image/png": "[encoded data removed]",
      "text/plain": [
       "<Figure size 640x480 with 1 Axes>"
      ]
     },
     "metadata": {},
     "output_type": "display_data"
    }
   ],
   "source": [
    "sobreviventes_classe = df_train.groupby(['Pclass', 'Survived']).size().unstack()\n",
    "\n",
    "plt.figure(figsize=(10, 8))\n",
    "sobreviventes_classe.plot(kind='bar', stacked=True, color=['#FF7761', '#5b9bd5'])\n",
    "\n",
    "plt.title('Sobrevivência por Classe de Passageiro')\n",
    "plt.xlabel('Classe')\n",
    "plt.ylabel('Quantidade')\n",
    "plt.xticks(ticks=[0, 1, 2], labels=['1ª', '2ª', '3ª'], rotation=0)\n",
    "plt.legend(['Não Sobreviveu', 'Sobreviveu'], loc='upper left')\n",
    "\n",
    "plt.show()"
   ]
  },
  {
   "cell_type": "markdown",
   "metadata": {},
   "source": [
    "#### **Gráfico de Porcentagem de Crianças que Sobreviveram por Classe**"
   ]
  },
  {
   "cell_type": "code",
   "execution_count": 35,
   "metadata": {},
   "outputs": [
    {
     "data": {
      "image/png": "[encoded data removed]",
      "text/plain": [
       "<Figure size 640x480 with 1 Axes>"
      ]
     },
     "metadata": {},
     "output_type": "display_data"
    }
   ],
   "source": [
    "criancas = df_train_dummy[(df_train_dummy['Faixa_Etaria'] == 'Criança') & (df_train['Pclass'].isin([1, 3]))]\n",
    "\n",
    "# Agrupar por 'Pclass' e 'Survived', contando o número de crianças\n",
    "criancas_sobreviventes = criancas.groupby(['Pclass', 'Survived']).size().unstack(fill_value=0)\n",
    "\n",
    "# Calcular a porcentagem de sobreviventes em cada classe\n",
    "criancas_sobreviventes['Total'] = criancas_sobreviventes.sum(axis=1)\n",
    "criancas_sobreviventes['Porcentagem Sobreviveu'] = criancas_sobreviventes[1] / criancas_sobreviventes['Total']\n",
    "\n",
    "# Definindo cores para as barras\n",
    "cores_barras = ['#5b9bd5', '#243D51']  # Verde para sobreviveu, Vermelho para não sobreviveu\n",
    "\n",
    "# Criar o gráfico de barras para as porcentagens\n",
    "bars = plt.bar(['1ª', '3ª'], criancas_sobreviventes['Porcentagem Sobreviveu'], color=cores_barras)\n",
    "\n",
    "plt.title('Porcentagem de Crianças que Sobreviveram por Classe')\n",
    "plt.xlabel('Classe da criança')\n",
    "plt.ylabel('Porcentagem de Sobrevivência')\n",
    "\n",
    "# Adicionar rótulos de porcentagem nas barras\n",
    "for bar in bars:\n",
    "    yval = bar.get_height()\n",
    "    plt.text(bar.get_x() + bar.get_width() / 2, yval, f'{yval:.1%}', ha='center', va='bottom')\n",
    "\n",
    "plt.show()"
   ]
  },
  {
   "cell_type": "markdown",
   "metadata": {
    "id": "coWnFu8EtZvL"
   },
   "source": [
    "### Atributo Embarcação"
   ]
  },
  {
   "cell_type": "markdown",
   "metadata": {},
   "source": [
    "#### **Gráfico de Quantidade de Pessoas que Embarcaram por Porto**"
   ]
  },
  {
   "cell_type": "code",
   "execution_count": 36,
   "metadata": {
    "colab": {
     "base_uri": "https://localhost:8080/",
     "height": 521
    },
    "id": "KTo7uMugei74",
    "outputId": "0dab3abf-ea6c-4307-c9ec-dc854299c1cc"
   },
   "outputs": [
    {
     "data": {
      "image/png": "[encoded data removed]",
      "text/plain": [
       "<Figure size 1300x600 with 1 Axes>"
      ]
     },
     "metadata": {},
     "output_type": "display_data"
    }
   ],
   "source": [
    "# Contagem da quantidade de pessoas por classe\n",
    "qtd_embarcado = df_train['Embarked'].value_counts()\n",
    "\n",
    "# Nomes dos portos para a legenda\n",
    "porto_nomes = {'C': 'Cherbourg', 'Q': 'Queenstown', 'S': 'Southampton', 'NI': 'Não Informado'}\n",
    "legenda_embarcacao = [porto_nomes.get(porto, 'Não Informado') for porto in qtd_embarcado.index]\n",
    "legenda_embarcacao = legenda_embarcacao[::-1]\n",
    "qtd_embarcado = qtd_embarcado.iloc[::-1]\n",
    "\n",
    "# Criação do gráfico de barras\n",
    "plt.figure(figsize=(13, 6))\n",
    "bars = plt.barh(legenda_embarcacao, qtd_embarcado, color=['#FF7761', '#FDC23E','#C2BAC2'])\n",
    "\n",
    "plt.title('Quantidade de Pessoas que Embarcaram por Porto')\n",
    "plt.ylabel('Porto de Embarque')\n",
    "plt.xlabel('Quantidade')\n",
    "\n",
    "# Calcular o total para a porcentagem\n",
    "total = sum(qtd_embarcado)\n",
    "\n",
    "# Adicionar anotação de porcentagem\n",
    "for bar in bars:\n",
    "    plt.text(bar.get_width(), bar.get_y() + bar.get_height() / 2,\n",
    "             f' {bar.get_width()/total:.1%}',\n",
    "             va='center', ha='left')\n",
    "\n",
    "plt.show()"
   ]
  },
  {
   "cell_type": "markdown",
   "metadata": {},
   "source": [
    "#### **Gráfico de Sobreviventes por Local de Embarque**"
   ]
  },
  {
   "cell_type": "code",
   "execution_count": 37,
   "metadata": {
    "colab": {
     "base_uri": "https://localhost:8080/",
     "height": 472
    },
    "id": "kmNm6-vTGpz-",
    "outputId": "8b800c9b-b008-472a-b0d1-309dd254b224"
   },
   "outputs": [
    {
     "data": {
      "image/png": "[encoded data removed]",
      "text/plain": [
       "<Figure size 640x480 with 1 Axes>"
      ]
     },
     "metadata": {},
     "output_type": "display_data"
    }
   ],
   "source": [
    "sobreviventes_embarcacao = df_train.groupby(['Embarked', 'Survived']).size().unstack()\n",
    "\n",
    "# Mapeamento dos nomes dos portos para os rótulos do eixo x\n",
    "porto_nomes = {'C': 'Cherbourg', 'Q': 'Queenstown', 'S': 'Southampton', 'NI': 'NI'}\n",
    "nova_ordem = ['S', 'C', 'Q', 'NI']\n",
    "sobreviventes_embarcacao = sobreviventes_embarcacao.reindex(nova_ordem)\n",
    "\n",
    "# Criar o gráfico de barras empilhadas para mostrar os sobreviventes por local de embarque\n",
    "sobreviventes_embarcacao.plot(kind='bar', stacked=True, color=['#FF7761', '#5b9bd5'])\n",
    "\n",
    "# Ajustar os rótulos do eixo x para exibir os nomes completos dos portos\n",
    "plt.xticks(ticks=range(len(porto_nomes)), labels=[porto_nomes.get(label.get_text(), label.get_text()) for label in plt.gca().get_xticklabels()], rotation=0)\n",
    "\n",
    "plt.title('Sobreviventes por Local de Embarque')\n",
    "plt.xlabel('Local de Embarque')\n",
    "plt.ylabel('Quantidade')\n",
    "plt.legend(['Não Sobreviveu', 'Sobreviveu'], loc='upper right')\n",
    "\n",
    "plt.show()"
   ]
  },
  {
   "cell_type": "markdown",
   "metadata": {
    "id": "d6T6PAMYpFu_"
   },
   "source": [
    "### Irmãos/Cônjuges e Pais/Filhos"
   ]
  },
  {
   "cell_type": "markdown",
   "metadata": {},
   "source": [
    "#### **Gráficos de Distribuição de Irmãos/Cônjuges e Pais/Filhos**"
   ]
  },
  {
   "cell_type": "code",
   "execution_count": 38,
   "metadata": {
    "colab": {
     "base_uri": "https://localhost:8080/",
     "height": 607
    },
    "id": "9H1rcsc8unKL",
    "outputId": "3ba97632-a504-46a1-bc5c-732eb40257f7"
   },
   "outputs": [
    {
     "data": {
      "image/png": "[encoded data removed]",
      "text/plain": [
       "<Figure size 1400x600 with 2 Axes>"
      ]
     },
     "metadata": {},
     "output_type": "display_data"
    }
   ],
   "source": [
    "# Criar os barplots para as colunas 'Irmãos/Cônjuges' e 'Pais/Filhos'\n",
    "plt.figure(figsize=(14, 6))\n",
    "\n",
    "cores_barras= ['#F9A11B','#97913F','#243D51','#30504E','#22516D','#C4D6B0','#FDC23E']\n",
    "\n",
    "# Barplot para 'Irmãos/Cônjuges'\n",
    "plt.subplot(1, 2, 1) # 1 linha, 2 colunas, posição 1\n",
    "ax1 = sns.countplot(x='SibSp', hue='SibSp', legend=False, data=df_train,palette=cores_barras)\n",
    "plt.title('Irmãos e Cônjuges a Bordo do Titanic')\n",
    "plt.ylabel('Quantidade')\n",
    "plt.xlabel('Irmãos/Cônjuges')\n",
    "\n",
    "# Adicionar numeração em cada barra para 'Irmãos/Cônjuges'\n",
    "for p in ax1.patches:\n",
    "    ax1.annotate(f'{int(p.get_height())}', (p.get_x() + p.get_width() / 2., p.get_height()),\n",
    "                 ha='center', va='center', fontsize=10, color='black', xytext=(0, 5),\n",
    "                 textcoords='offset points')\n",
    "\n",
    "# Barplot para 'Pais/Filhos'\n",
    "plt.subplot(1, 2, 2) # 1 linha, 2 colunas, posição 2\n",
    "ax2 = sns.countplot(x='Parch', hue='Parch', legend=False, data=df_train,palette=cores_barras)\n",
    "plt.title('Pais e Filhos a Bordo do Titanic')\n",
    "plt.ylabel('Quantidade')\n",
    "plt.xlabel('Pais/Filhos')\n",
    "\n",
    "# Adicionar numeração em cada barra para 'Pais/Filhos'\n",
    "for p in ax2.patches:\n",
    "    ax2.annotate(f'{int(p.get_height())}', (p.get_x() + p.get_width() / 2., p.get_height()),\n",
    "                 ha='center', va='center', fontsize=10, color='black', xytext=(0, 5),\n",
    "                 textcoords='offset points')\n",
    "\n",
    "# Ajustar layout e mostrar os gráficos\n",
    "plt.tight_layout()\n",
    "plt.show()"
   ]
  },
  {
   "cell_type": "markdown",
   "metadata": {},
   "source": [
    "#### **Gráfico de Sobreviventes por Número de Irmãos/Cônjuges e Pais/Filhos**"
   ]
  },
  {
   "cell_type": "code",
   "execution_count": 39,
   "metadata": {},
   "outputs": [
    {
     "data": {
      "image/png": "[encoded data removed]",
      "text/plain": [
       "<Figure size 1400x600 with 2 Axes>"
      ]
     },
     "metadata": {},
     "output_type": "display_data"
    }
   ],
   "source": [
    "sibsp_sobrev = df_train.groupby(['SibSp', 'Survived']).size().unstack()\n",
    "parch_sobrev = df_train.groupby(['Parch', 'Survived']).size().unstack()\n",
    "\n",
    "plt.figure(figsize=(14, 6))\n",
    "\n",
    "# Gráfico para 'Irmãos/Cônjuges'\n",
    "plt.subplot(1, 2, 1)\n",
    "sibsp_sobrev.plot(kind='bar', stacked=True, color=['#FF7761', '#5b9bd5'], ax=plt.gca())\n",
    "plt.title('Sobreviventes por Número de Irmãos e Cônjuges')\n",
    "plt.ylabel('Quantidade')\n",
    "plt.xlabel('Irmãos/Cônjuges')\n",
    "plt.legend(title='Status', labels=['Não Sobreviveu', 'Sobreviveu'])\n",
    "plt.xticks(rotation=0)\n",
    "\n",
    "# Gráfico para 'Pais/Filhos'\n",
    "plt.subplot(1, 2, 2)\n",
    "parch_sobrev.plot(kind='bar', stacked=True, color=['#FF7761', '#5b9bd5'], ax=plt.gca())\n",
    "plt.title('Sobreviventes por Número de Pais e Filhos')\n",
    "plt.ylabel('Quantidade')\n",
    "plt.xlabel('Pais/Filhos')\n",
    "plt.legend(title='Status', labels=['Não Sobreviveu', 'Sobreviveu'])\n",
    "plt.xticks(rotation=0)\n",
    "\n",
    "plt.tight_layout()\n",
    "plt.show()"
   ]
  },
  {
   "cell_type": "markdown",
   "metadata": {
    "id": "kRyPTo0fzhRY"
   },
   "source": [
    "# Data Wrangling"
   ]
  },
  {
   "cell_type": "markdown",
   "metadata": {
    "id": "9oG3AX0R1lyl"
   },
   "source": [
    "O objetivo dessa etapa é preparar os dados para a etapa de modelagem, separando-os entre *features* e *target*."
   ]
  },
  {
   "cell_type": "markdown",
   "metadata": {
    "id": "NuxIYdlU1pRs",
    "jp-MarkdownHeadingCollapsed": true
   },
   "source": [
    "### Conversão de Sexo"
   ]
  },
  {
   "cell_type": "markdown",
   "metadata": {
    "id": "1UUf0VJB1yOO"
   },
   "source": [
    "O atributo `Sex` possui os valores `male` e `female`, indicando masculino e feminino.\n",
    "\n",
    "Para ambos os conjuntos de treino e teste, mapeamos esse atributo para os valores 0 e 1."
   ]
  },
  {
   "cell_type": "code",
   "execution_count": 40,
   "metadata": {
    "id": "z6EAdlM61_oE"
   },
   "outputs": [],
   "source": [
    "df_train['Sex'] = df_train['Sex'].map({'male': 0, 'female': 1})\n",
    "df_test['Sex'] = df_test['Sex'].map({'male': 0, 'female': 1})"
   ]
  },
  {
   "cell_type": "markdown",
   "metadata": {
    "id": "Ve4uIFnl4Gaq",
    "jp-MarkdownHeadingCollapsed": true
   },
   "source": [
    "### One-Hot Encoding para a Classe de Passageiro"
   ]
  },
  {
   "cell_type": "markdown",
   "metadata": {
    "id": "A4MBj6BB6rjX"
   },
   "source": [
    "A técnica de *One-Hot Encoding* tem como objetivo transformar cada valor de um atributo categórico em atributos binários, que possam ser identificados matematicamente."
   ]
  },
  {
   "cell_type": "code",
   "execution_count": 41,
   "metadata": {
    "colab": {
     "base_uri": "https://localhost:8080/",
     "height": 206
    },
    "id": "pJWY6uNN34oP",
    "outputId": "007dceba-ca62-4e2e-e100-b86368f4d679"
   },
   "outputs": [
    {
     "data": {
      "text/html": [
       "<div>\n",
       "<style scoped>\n",
       "    .dataframe tbody tr th:only-of-type {\n",
       "        vertical-align: middle;\n",
       "    }\n",
       "\n",
       "    .dataframe tbody tr th {\n",
       "        vertical-align: top;\n",
       "    }\n",
       "\n",
       "    .dataframe thead th {\n",
       "        text-align: right;\n",
       "    }\n",
       "</style>\n",
       "<table border=\"1\" class=\"dataframe\">\n",
       "  <thead>\n",
       "    <tr style=\"text-align: right;\">\n",
       "      <th></th>\n",
       "      <th>PassengerId</th>\n",
       "      <th>Survived</th>\n",
       "      <th>Pclass</th>\n",
       "      <th>Name</th>\n",
       "      <th>Sex</th>\n",
       "      <th>Age</th>\n",
       "      <th>SibSp</th>\n",
       "      <th>Parch</th>\n",
       "      <th>Ticket</th>\n",
       "      <th>Fare</th>\n",
       "      <th>Cabin</th>\n",
       "      <th>Embarked</th>\n",
       "      <th>Pclass_1</th>\n",
       "      <th>Pclass_2</th>\n",
       "      <th>Pclass_3</th>\n",
       "    </tr>\n",
       "  </thead>\n",
       "  <tbody>\n",
       "    <tr>\n",
       "      <th>0</th>\n",
       "      <td>1</td>\n",
       "      <td>0</td>\n",
       "      <td>3</td>\n",
       "      <td>Braund, Mr. Owen Harris</td>\n",
       "      <td>0</td>\n",
       "      <td>22.0</td>\n",
       "      <td>1</td>\n",
       "      <td>0</td>\n",
       "      <td>A/5 21171</td>\n",
       "      <td>7.2500</td>\n",
       "      <td>NI</td>\n",
       "      <td>S</td>\n",
       "      <td>False</td>\n",
       "      <td>False</td>\n",
       "      <td>True</td>\n",
       "    </tr>\n",
       "    <tr>\n",
       "      <th>1</th>\n",
       "      <td>2</td>\n",
       "      <td>1</td>\n",
       "      <td>1</td>\n",
       "      <td>Cumings, Mrs. John Bradley (Florence Briggs Th...</td>\n",
       "      <td>1</td>\n",
       "      <td>38.0</td>\n",
       "      <td>1</td>\n",
       "      <td>0</td>\n",
       "      <td>PC 17599</td>\n",
       "      <td>71.2833</td>\n",
       "      <td>C85</td>\n",
       "      <td>C</td>\n",
       "      <td>True</td>\n",
       "      <td>False</td>\n",
       "      <td>False</td>\n",
       "    </tr>\n",
       "    <tr>\n",
       "      <th>2</th>\n",
       "      <td>3</td>\n",
       "      <td>1</td>\n",
       "      <td>3</td>\n",
       "      <td>Heikkinen, Miss. Laina</td>\n",
       "      <td>1</td>\n",
       "      <td>26.0</td>\n",
       "      <td>0</td>\n",
       "      <td>0</td>\n",
       "      <td>STON/O2. 3101282</td>\n",
       "      <td>7.9250</td>\n",
       "      <td>NI</td>\n",
       "      <td>S</td>\n",
       "      <td>False</td>\n",
       "      <td>False</td>\n",
       "      <td>True</td>\n",
       "    </tr>\n",
       "    <tr>\n",
       "      <th>3</th>\n",
       "      <td>4</td>\n",
       "      <td>1</td>\n",
       "      <td>1</td>\n",
       "      <td>Futrelle, Mrs. Jacques Heath (Lily May Peel)</td>\n",
       "      <td>1</td>\n",
       "      <td>35.0</td>\n",
       "      <td>1</td>\n",
       "      <td>0</td>\n",
       "      <td>113803</td>\n",
       "      <td>53.1000</td>\n",
       "      <td>C123</td>\n",
       "      <td>S</td>\n",
       "      <td>True</td>\n",
       "      <td>False</td>\n",
       "      <td>False</td>\n",
       "    </tr>\n",
       "    <tr>\n",
       "      <th>4</th>\n",
       "      <td>5</td>\n",
       "      <td>0</td>\n",
       "      <td>3</td>\n",
       "      <td>Allen, Mr. William Henry</td>\n",
       "      <td>0</td>\n",
       "      <td>35.0</td>\n",
       "      <td>0</td>\n",
       "      <td>0</td>\n",
       "      <td>373450</td>\n",
       "      <td>8.0500</td>\n",
       "      <td>NI</td>\n",
       "      <td>S</td>\n",
       "      <td>False</td>\n",
       "      <td>False</td>\n",
       "      <td>True</td>\n",
       "    </tr>\n",
       "  </tbody>\n",
       "</table>\n",
       "</div>"
      ],
      "text/plain": [
       "   PassengerId  Survived  Pclass  \\\n",
       "0            1         0       3   \n",
       "1            2         1       1   \n",
       "2            3         1       3   \n",
       "3            4         1       1   \n",
       "4            5         0       3   \n",
       "\n",
       "                                                Name  Sex   Age  SibSp  Parch  \\\n",
       "0                            Braund, Mr. Owen Harris    0  22.0      1      0   \n",
       "1  Cumings, Mrs. John Bradley (Florence Briggs Th...    1  38.0      1      0   \n",
       "2                             Heikkinen, Miss. Laina    1  26.0      0      0   \n",
       "3       Futrelle, Mrs. Jacques Heath (Lily May Peel)    1  35.0      1      0   \n",
       "4                           Allen, Mr. William Henry    0  35.0      0      0   \n",
       "\n",
       "             Ticket     Fare Cabin Embarked  Pclass_1  Pclass_2  Pclass_3  \n",
       "0         A/5 21171   7.2500    NI        S     False     False      True  \n",
       "1          PC 17599  71.2833   C85        C      True     False     False  \n",
       "2  STON/O2. 3101282   7.9250    NI        S     False     False      True  \n",
       "3            113803  53.1000  C123        S      True     False     False  \n",
       "4            373450   8.0500    NI        S     False     False      True  "
      ]
     },
     "execution_count": 41,
     "metadata": {},
     "output_type": "execute_result"
    }
   ],
   "source": [
    "# Aplicando One-Hot Encoding na variável 'Pclass' (TREINO)\n",
    "pclass_one_hot = pd.get_dummies(df_train['Pclass'], prefix='Pclass')\n",
    "\n",
    "# Adicionando novas colunas do Dataframe de treino\n",
    "df_train = pd.concat([df_train, pclass_one_hot], axis=1)\n",
    "\n",
    "# Visualizando o resultado do One-Hot Encoding\n",
    "df_train.head()"
   ]
  },
  {
   "cell_type": "code",
   "execution_count": 42,
   "metadata": {
    "colab": {
     "base_uri": "https://localhost:8080/",
     "height": 206
    },
    "id": "J2Swam158BhV",
    "outputId": "93f61e42-fbc1-4736-f718-f05caa2479cf"
   },
   "outputs": [
    {
     "data": {
      "text/html": [
       "<div>\n",
       "<style scoped>\n",
       "    .dataframe tbody tr th:only-of-type {\n",
       "        vertical-align: middle;\n",
       "    }\n",
       "\n",
       "    .dataframe tbody tr th {\n",
       "        vertical-align: top;\n",
       "    }\n",
       "\n",
       "    .dataframe thead th {\n",
       "        text-align: right;\n",
       "    }\n",
       "</style>\n",
       "<table border=\"1\" class=\"dataframe\">\n",
       "  <thead>\n",
       "    <tr style=\"text-align: right;\">\n",
       "      <th></th>\n",
       "      <th>PassengerId</th>\n",
       "      <th>Pclass</th>\n",
       "      <th>Name</th>\n",
       "      <th>Sex</th>\n",
       "      <th>Age</th>\n",
       "      <th>SibSp</th>\n",
       "      <th>Parch</th>\n",
       "      <th>Ticket</th>\n",
       "      <th>Fare</th>\n",
       "      <th>Cabin</th>\n",
       "      <th>Embarked</th>\n",
       "      <th>Pclass_1</th>\n",
       "      <th>Pclass_2</th>\n",
       "      <th>Pclass_3</th>\n",
       "    </tr>\n",
       "  </thead>\n",
       "  <tbody>\n",
       "    <tr>\n",
       "      <th>0</th>\n",
       "      <td>892</td>\n",
       "      <td>3</td>\n",
       "      <td>Kelly, Mr. James</td>\n",
       "      <td>0</td>\n",
       "      <td>34.5</td>\n",
       "      <td>0</td>\n",
       "      <td>0</td>\n",
       "      <td>330911</td>\n",
       "      <td>7.8292</td>\n",
       "      <td>NI</td>\n",
       "      <td>Q</td>\n",
       "      <td>False</td>\n",
       "      <td>False</td>\n",
       "      <td>True</td>\n",
       "    </tr>\n",
       "    <tr>\n",
       "      <th>1</th>\n",
       "      <td>893</td>\n",
       "      <td>3</td>\n",
       "      <td>Wilkes, Mrs. James (Ellen Needs)</td>\n",
       "      <td>1</td>\n",
       "      <td>47.0</td>\n",
       "      <td>1</td>\n",
       "      <td>0</td>\n",
       "      <td>363272</td>\n",
       "      <td>7.0000</td>\n",
       "      <td>NI</td>\n",
       "      <td>S</td>\n",
       "      <td>False</td>\n",
       "      <td>False</td>\n",
       "      <td>True</td>\n",
       "    </tr>\n",
       "    <tr>\n",
       "      <th>2</th>\n",
       "      <td>894</td>\n",
       "      <td>2</td>\n",
       "      <td>Myles, Mr. Thomas Francis</td>\n",
       "      <td>0</td>\n",
       "      <td>62.0</td>\n",
       "      <td>0</td>\n",
       "      <td>0</td>\n",
       "      <td>240276</td>\n",
       "      <td>9.6875</td>\n",
       "      <td>NI</td>\n",
       "      <td>Q</td>\n",
       "      <td>False</td>\n",
       "      <td>True</td>\n",
       "      <td>False</td>\n",
       "    </tr>\n",
       "    <tr>\n",
       "      <th>3</th>\n",
       "      <td>895</td>\n",
       "      <td>3</td>\n",
       "      <td>Wirz, Mr. Albert</td>\n",
       "      <td>0</td>\n",
       "      <td>27.0</td>\n",
       "      <td>0</td>\n",
       "      <td>0</td>\n",
       "      <td>315154</td>\n",
       "      <td>8.6625</td>\n",
       "      <td>NI</td>\n",
       "      <td>S</td>\n",
       "      <td>False</td>\n",
       "      <td>False</td>\n",
       "      <td>True</td>\n",
       "    </tr>\n",
       "    <tr>\n",
       "      <th>4</th>\n",
       "      <td>896</td>\n",
       "      <td>3</td>\n",
       "      <td>Hirvonen, Mrs. Alexander (Helga E Lindqvist)</td>\n",
       "      <td>1</td>\n",
       "      <td>22.0</td>\n",
       "      <td>1</td>\n",
       "      <td>1</td>\n",
       "      <td>3101298</td>\n",
       "      <td>12.2875</td>\n",
       "      <td>NI</td>\n",
       "      <td>S</td>\n",
       "      <td>False</td>\n",
       "      <td>False</td>\n",
       "      <td>True</td>\n",
       "    </tr>\n",
       "  </tbody>\n",
       "</table>\n",
       "</div>"
      ],
      "text/plain": [
       "   PassengerId  Pclass                                          Name  Sex  \\\n",
       "0          892       3                              Kelly, Mr. James    0   \n",
       "1          893       3              Wilkes, Mrs. James (Ellen Needs)    1   \n",
       "2          894       2                     Myles, Mr. Thomas Francis    0   \n",
       "3          895       3                              Wirz, Mr. Albert    0   \n",
       "4          896       3  Hirvonen, Mrs. Alexander (Helga E Lindqvist)    1   \n",
       "\n",
       "    Age  SibSp  Parch   Ticket     Fare Cabin Embarked  Pclass_1  Pclass_2  \\\n",
       "0  34.5      0      0   330911   7.8292    NI        Q     False     False   \n",
       "1  47.0      1      0   363272   7.0000    NI        S     False     False   \n",
       "2  62.0      0      0   240276   9.6875    NI        Q     False      True   \n",
       "3  27.0      0      0   315154   8.6625    NI        S     False     False   \n",
       "4  22.0      1      1  3101298  12.2875    NI        S     False     False   \n",
       "\n",
       "   Pclass_3  \n",
       "0      True  \n",
       "1      True  \n",
       "2     False  \n",
       "3      True  \n",
       "4      True  "
      ]
     },
     "execution_count": 42,
     "metadata": {},
     "output_type": "execute_result"
    }
   ],
   "source": [
    "# Aplicando One-Hot Encoding na variável 'Pclass' (TESTE)\n",
    "pclass_one_hot = pd.get_dummies(df_test['Pclass'], prefix='Pclass')\n",
    "\n",
    "df_test = pd.concat([df_test, pclass_one_hot], axis=1)\n",
    "\n",
    "# Visualizando o resultado do One-Hot Encoding\n",
    "df_test.head()"
   ]
  },
  {
   "cell_type": "markdown",
   "metadata": {
    "id": "a4-KjjynW4Gv"
   },
   "source": [
    "# Função de Regressão Logística"
   ]
  },
  {
   "cell_type": "markdown",
   "metadata": {
    "id": "9XX73lJ8_a0i"
   },
   "source": [
    "A Regressão Logística é utilizada para calcular os possíveis sobreviventes no naufrágio do Titanic.\n",
    "\n",
    "Inicialmente, uma função *logit*, apresentada abaixo, é utilizada para possibilitar a interpretação dos resultados em função da Razão de Chances.\n",
    "\n",
    "$$\n",
    "g(X) = -1,33 + 2,55 * (I_{feminino}) + 1,27 * (I_{2ª classe}) + 2,58 * (I_{1ª classe}) - 0,04 * ({Idade})\n",
    "$$\n",
    "\n",
    "Para calcular a probabilidade de sobrevivência de um indivíduo, a função $E(Y)$, apresentada abaixo, é utilizada:\n",
    "\n",
    "$$\n",
    "E(Y) = \\frac{e^{g(x)}}{1 + e^{g(x)}}\n",
    "$$"
   ]
  },
  {
   "cell_type": "code",
   "execution_count": 43,
   "metadata": {
    "id": "5nRsGGjrV-Io"
   },
   "outputs": [],
   "source": [
    "def calcular_prob_sobrevivencia(row):\n",
    "  g_x = -1.33 + 2.55 * row['Sex'] + 1.27 * (row['Pclass_2']) + 2.58 * (row['Pclass_1']) - 0.04 * row['Age']\n",
    "  probability = np.exp(g_x) / (1 + np.exp(g_x))\n",
    "  return 1 if probability >= 0.5 else 0"
   ]
  },
  {
   "cell_type": "code",
   "execution_count": 44,
   "metadata": {
    "id": "tMqdk09mXB8u"
   },
   "outputs": [],
   "source": [
    "# Aplicar a função ao dataframe e criar a coluna de sobrevivência prevista\n",
    "df_test['Survival'] = df_test.apply(calcular_prob_sobrevivencia, axis=1)\n",
    "\n",
    "# Armazena a nova coluna em uma variável para que possamos utilizá-la posteriormente\n",
    "sobrev_calculados = df_test['Survival']"
   ]
  },
  {
   "cell_type": "code",
   "execution_count": 45,
   "metadata": {
    "colab": {
     "base_uri": "https://localhost:8080/",
     "height": 423
    },
    "id": "t4wUOd4nXQu2",
    "outputId": "a20560c2-4567-44bf-9441-dfbe20e44671"
   },
   "outputs": [
    {
     "data": {
      "text/html": [
       "<div>\n",
       "<style scoped>\n",
       "    .dataframe tbody tr th:only-of-type {\n",
       "        vertical-align: middle;\n",
       "    }\n",
       "\n",
       "    .dataframe tbody tr th {\n",
       "        vertical-align: top;\n",
       "    }\n",
       "\n",
       "    .dataframe thead th {\n",
       "        text-align: right;\n",
       "    }\n",
       "</style>\n",
       "<table border=\"1\" class=\"dataframe\">\n",
       "  <thead>\n",
       "    <tr style=\"text-align: right;\">\n",
       "      <th></th>\n",
       "      <th>PassengerId</th>\n",
       "      <th>Pclass</th>\n",
       "      <th>Name</th>\n",
       "      <th>Sex</th>\n",
       "      <th>Age</th>\n",
       "      <th>SibSp</th>\n",
       "      <th>Parch</th>\n",
       "      <th>Ticket</th>\n",
       "      <th>Fare</th>\n",
       "      <th>Cabin</th>\n",
       "      <th>Embarked</th>\n",
       "      <th>Survival</th>\n",
       "    </tr>\n",
       "  </thead>\n",
       "  <tbody>\n",
       "    <tr>\n",
       "      <th>0</th>\n",
       "      <td>892</td>\n",
       "      <td>3</td>\n",
       "      <td>Kelly, Mr. James</td>\n",
       "      <td>0</td>\n",
       "      <td>34.5</td>\n",
       "      <td>0</td>\n",
       "      <td>0</td>\n",
       "      <td>330911</td>\n",
       "      <td>7.8292</td>\n",
       "      <td>NI</td>\n",
       "      <td>Q</td>\n",
       "      <td>0</td>\n",
       "    </tr>\n",
       "    <tr>\n",
       "      <th>1</th>\n",
       "      <td>893</td>\n",
       "      <td>3</td>\n",
       "      <td>Wilkes, Mrs. James (Ellen Needs)</td>\n",
       "      <td>1</td>\n",
       "      <td>47.0</td>\n",
       "      <td>1</td>\n",
       "      <td>0</td>\n",
       "      <td>363272</td>\n",
       "      <td>7.0000</td>\n",
       "      <td>NI</td>\n",
       "      <td>S</td>\n",
       "      <td>0</td>\n",
       "    </tr>\n",
       "    <tr>\n",
       "      <th>2</th>\n",
       "      <td>894</td>\n",
       "      <td>2</td>\n",
       "      <td>Myles, Mr. Thomas Francis</td>\n",
       "      <td>0</td>\n",
       "      <td>62.0</td>\n",
       "      <td>0</td>\n",
       "      <td>0</td>\n",
       "      <td>240276</td>\n",
       "      <td>9.6875</td>\n",
       "      <td>NI</td>\n",
       "      <td>Q</td>\n",
       "      <td>0</td>\n",
       "    </tr>\n",
       "    <tr>\n",
       "      <th>3</th>\n",
       "      <td>895</td>\n",
       "      <td>3</td>\n",
       "      <td>Wirz, Mr. Albert</td>\n",
       "      <td>0</td>\n",
       "      <td>27.0</td>\n",
       "      <td>0</td>\n",
       "      <td>0</td>\n",
       "      <td>315154</td>\n",
       "      <td>8.6625</td>\n",
       "      <td>NI</td>\n",
       "      <td>S</td>\n",
       "      <td>0</td>\n",
       "    </tr>\n",
       "    <tr>\n",
       "      <th>4</th>\n",
       "      <td>896</td>\n",
       "      <td>3</td>\n",
       "      <td>Hirvonen, Mrs. Alexander (Helga E Lindqvist)</td>\n",
       "      <td>1</td>\n",
       "      <td>22.0</td>\n",
       "      <td>1</td>\n",
       "      <td>1</td>\n",
       "      <td>3101298</td>\n",
       "      <td>12.2875</td>\n",
       "      <td>NI</td>\n",
       "      <td>S</td>\n",
       "      <td>1</td>\n",
       "    </tr>\n",
       "    <tr>\n",
       "      <th>...</th>\n",
       "      <td>...</td>\n",
       "      <td>...</td>\n",
       "      <td>...</td>\n",
       "      <td>...</td>\n",
       "      <td>...</td>\n",
       "      <td>...</td>\n",
       "      <td>...</td>\n",
       "      <td>...</td>\n",
       "      <td>...</td>\n",
       "      <td>...</td>\n",
       "      <td>...</td>\n",
       "      <td>...</td>\n",
       "    </tr>\n",
       "    <tr>\n",
       "      <th>413</th>\n",
       "      <td>1305</td>\n",
       "      <td>3</td>\n",
       "      <td>Spector, Mr. Woolf</td>\n",
       "      <td>0</td>\n",
       "      <td>27.0</td>\n",
       "      <td>0</td>\n",
       "      <td>0</td>\n",
       "      <td>A.5. 3236</td>\n",
       "      <td>8.0500</td>\n",
       "      <td>NI</td>\n",
       "      <td>S</td>\n",
       "      <td>0</td>\n",
       "    </tr>\n",
       "    <tr>\n",
       "      <th>414</th>\n",
       "      <td>1306</td>\n",
       "      <td>1</td>\n",
       "      <td>Oliva y Ocana, Dona. Fermina</td>\n",
       "      <td>1</td>\n",
       "      <td>39.0</td>\n",
       "      <td>0</td>\n",
       "      <td>0</td>\n",
       "      <td>PC 17758</td>\n",
       "      <td>108.9000</td>\n",
       "      <td>C105</td>\n",
       "      <td>C</td>\n",
       "      <td>1</td>\n",
       "    </tr>\n",
       "    <tr>\n",
       "      <th>415</th>\n",
       "      <td>1307</td>\n",
       "      <td>3</td>\n",
       "      <td>Saether, Mr. Simon Sivertsen</td>\n",
       "      <td>0</td>\n",
       "      <td>38.5</td>\n",
       "      <td>0</td>\n",
       "      <td>0</td>\n",
       "      <td>SOTON/O.Q. 3101262</td>\n",
       "      <td>7.2500</td>\n",
       "      <td>NI</td>\n",
       "      <td>S</td>\n",
       "      <td>0</td>\n",
       "    </tr>\n",
       "    <tr>\n",
       "      <th>416</th>\n",
       "      <td>1308</td>\n",
       "      <td>3</td>\n",
       "      <td>Ware, Mr. Frederick</td>\n",
       "      <td>0</td>\n",
       "      <td>27.0</td>\n",
       "      <td>0</td>\n",
       "      <td>0</td>\n",
       "      <td>359309</td>\n",
       "      <td>8.0500</td>\n",
       "      <td>NI</td>\n",
       "      <td>S</td>\n",
       "      <td>0</td>\n",
       "    </tr>\n",
       "    <tr>\n",
       "      <th>417</th>\n",
       "      <td>1309</td>\n",
       "      <td>3</td>\n",
       "      <td>Peter, Master. Michael J</td>\n",
       "      <td>0</td>\n",
       "      <td>27.0</td>\n",
       "      <td>1</td>\n",
       "      <td>1</td>\n",
       "      <td>2668</td>\n",
       "      <td>22.3583</td>\n",
       "      <td>NI</td>\n",
       "      <td>C</td>\n",
       "      <td>0</td>\n",
       "    </tr>\n",
       "  </tbody>\n",
       "</table>\n",
       "<p>418 rows × 12 columns</p>\n",
       "</div>"
      ],
      "text/plain": [
       "     PassengerId  Pclass                                          Name  Sex  \\\n",
       "0            892       3                              Kelly, Mr. James    0   \n",
       "1            893       3              Wilkes, Mrs. James (Ellen Needs)    1   \n",
       "2            894       2                     Myles, Mr. Thomas Francis    0   \n",
       "3            895       3                              Wirz, Mr. Albert    0   \n",
       "4            896       3  Hirvonen, Mrs. Alexander (Helga E Lindqvist)    1   \n",
       "..           ...     ...                                           ...  ...   \n",
       "413         1305       3                            Spector, Mr. Woolf    0   \n",
       "414         1306       1                  Oliva y Ocana, Dona. Fermina    1   \n",
       "415         1307       3                  Saether, Mr. Simon Sivertsen    0   \n",
       "416         1308       3                           Ware, Mr. Frederick    0   \n",
       "417         1309       3                      Peter, Master. Michael J    0   \n",
       "\n",
       "      Age  SibSp  Parch              Ticket      Fare Cabin Embarked  Survival  \n",
       "0    34.5      0      0              330911    7.8292    NI        Q         0  \n",
       "1    47.0      1      0              363272    7.0000    NI        S         0  \n",
       "2    62.0      0      0              240276    9.6875    NI        Q         0  \n",
       "3    27.0      0      0              315154    8.6625    NI        S         0  \n",
       "4    22.0      1      1             3101298   12.2875    NI        S         1  \n",
       "..    ...    ...    ...                 ...       ...   ...      ...       ...  \n",
       "413  27.0      0      0           A.5. 3236    8.0500    NI        S         0  \n",
       "414  39.0      0      0            PC 17758  108.9000  C105        C         1  \n",
       "415  38.5      0      0  SOTON/O.Q. 3101262    7.2500    NI        S         0  \n",
       "416  27.0      0      0              359309    8.0500    NI        S         0  \n",
       "417  27.0      1      1                2668   22.3583    NI        C         0  \n",
       "\n",
       "[418 rows x 12 columns]"
      ]
     },
     "execution_count": 45,
     "metadata": {},
     "output_type": "execute_result"
    }
   ],
   "source": [
    "df_test.drop(['Pclass_1','Pclass_2','Pclass_3'], axis = 1)"
   ]
  },
  {
   "cell_type": "code",
   "execution_count": 46,
   "metadata": {},
   "outputs": [
    {
     "name": "stdout",
     "output_type": "stream",
     "text": [
      "Total de passageiros no conjunto de teste: 418\n",
      "Número de sobreviventes: 164\n",
      "Número de não sobreviventes: 254\n",
      "\n",
      "39.23% dos passageiros sobreviveram.\n",
      "\n",
      "60.77% dos passageiros não sobreviveram.\n"
     ]
    }
   ],
   "source": [
    "num_total_passageiros = len(df_test)\n",
    "num_sobreviventes = len(df_test.loc[df_test['Survival'] == 1])\n",
    "num_nao_sobreviventes = len(df_test.loc[df_test['Survival'] == 0])\n",
    "\n",
    "print(\"Total de passageiros no conjunto de teste:\", num_total_passageiros)\n",
    "print(\"Número de sobreviventes:\", num_sobreviventes)\n",
    "print(\"Número de não sobreviventes:\", num_nao_sobreviventes)\n",
    "\n",
    "print(f\"\\n{round((num_sobreviventes / num_total_passageiros * 100), 2)}% dos passageiros sobreviveram.\")\n",
    "print(f\"\\n{round((num_nao_sobreviventes / num_total_passageiros * 100), 2)}% dos passageiros não sobreviveram.\")"
   ]
  },
  {
   "cell_type": "markdown",
   "metadata": {
    "id": "tRajk1XgrsA2"
   },
   "source": [
    "# Análise dos Dados de Teste"
   ]
  },
  {
   "cell_type": "markdown",
   "metadata": {
    "id": "GBpBsET7BRJb"
   },
   "source": [
    "Nessa etapa, analisaremos graficamente o conjunto de teste com base nos indivíduos identificados como sobreviventes ou não."
   ]
  },
  {
   "cell_type": "markdown",
   "metadata": {},
   "source": [
    "## Gráfico de Distribuição de Possíveis Sobreviventes e Não Sobreviventes"
   ]
  },
  {
   "cell_type": "code",
   "execution_count": 47,
   "metadata": {
    "colab": {
     "base_uri": "https://localhost:8080/",
     "height": 719
    },
    "id": "SdmHCjzMj5Ta",
    "outputId": "e23e29a9-6355-4a77-91ff-0a36741c9358"
   },
   "outputs": [
    {
     "data": {
      "image/png": "[encoded data removed]",
      "text/plain": [
       "<Figure size 800x800 with 1 Axes>"
      ]
     },
     "metadata": {},
     "output_type": "display_data"
    }
   ],
   "source": [
    "cores_barras = ['#FF7761', '#5b9bd5']\n",
    "\n",
    "plt.figure(figsize=(8, 8))\n",
    "ax = sns.countplot(x='Survival', hue='Survival', legend=False, data=df_test, palette=cores_barras)\n",
    "\n",
    "# Calcular o número total de passageiros\n",
    "total_passageiros = len(df_test)\n",
    "\n",
    "# Adicionar anotações com o número de contagem e o percentual\n",
    "for p in ax.patches:\n",
    "    count = int(p.get_height())\n",
    "    x = p.get_x() + p.get_width() / 2\n",
    "    y = p.get_height()\n",
    "    ax.annotate(f'{count}', (x, y), ha='center', va='center',\n",
    "                fontsize=11, color='black', xytext=(0, 10), textcoords='offset points')\n",
    "\n",
    "plt.title('Número e Percentual de Passageiros que Sobreviveriam e Não Sobreviveriam')\n",
    "plt.xlabel('Sobreviveriam')\n",
    "plt.ylabel('Quantidade')\n",
    "plt.xticks([0, 1], ['Não', 'Sim'])  # Renomeia os ticks para serem mais descritivos\n",
    "\n",
    "plt.show()"
   ]
  },
  {
   "cell_type": "code",
   "execution_count": 48,
   "metadata": {
    "colab": {
     "base_uri": "https://localhost:8080/",
     "height": 546
    },
    "id": "B4bFL2NohM5G",
    "outputId": "a9b524f0-5831-4bc8-a9dc-d9fe8eba82ba"
   },
   "outputs": [
    {
     "data": {
      "image/png": "[encoded data removed]",
      "text/plain": [
       "<Figure size 640x480 with 1 Axes>"
      ]
     },
     "metadata": {},
     "output_type": "display_data"
    }
   ],
   "source": [
    "# Gráfico de barras empilhadas: quantidade de pessoas que sobreviveram por sexo\n",
    "survived_sex = df_test.groupby(['Sex', 'Survival']).size().unstack()\n",
    "\n",
    "survived_sex.plot(kind='bar', stacked=True, color=['#FF7761', '#5b9bd5'])\n",
    "plt.title('Possíveis Sobreviventes por Sexo')\n",
    "plt.xlabel('Sexo')\n",
    "plt.ylabel('Quantidade')\n",
    "plt.xticks(ticks=[0, 1], labels=['Masculino', 'Feminino'], rotation=0)\n",
    "plt.legend(['Não Sobreviveram', 'Sobreviveram'], title='Status')\n",
    "\n",
    "plt.show()"
   ]
  },
  {
   "cell_type": "code",
   "execution_count": 49,
   "metadata": {
    "colab": {
     "base_uri": "https://localhost:8080/",
     "height": 616
    },
    "id": "h-WibUJgsQb5",
    "outputId": "faa00c69-ed31-483f-a1f5-37bbb125d65a"
   },
   "outputs": [
    {
     "data": {
      "text/plain": [
       "<Figure size 1000x800 with 0 Axes>"
      ]
     },
     "metadata": {},
     "output_type": "display_data"
    },
    {
     "data": {
      "image/png": "[encoded data removed]",
      "text/plain": [
       "<Figure size 640x480 with 1 Axes>"
      ]
     },
     "metadata": {},
     "output_type": "display_data"
    }
   ],
   "source": [
    "bins = [0, 12, 18, 60, 99]\n",
    "labels = ['Criança', 'Jovem', 'Adulto', 'Idoso']\n",
    "df_test['Faixa_Etaria'] = pd.cut(df_test['Age'], bins=bins, labels=labels, right=False)\n",
    "age_survival = df_test.groupby(['Faixa_Etaria', 'Survival'], observed=True).size().unstack()\n",
    "plt.figure(figsize=(10, 8))  # Definir o tamanho da figura\n",
    "age_survival.plot(kind='bar', stacked=True, color=['#FF7761', '#5b9bd5'])\n",
    "\n",
    "plt.title('Possíveis Sobreviventes por Faixa Etária')\n",
    "plt.xlabel('Faixa Etária')\n",
    "plt.ylabel('Quantidade')\n",
    "plt.xticks(rotation=0)\n",
    "plt.legend(['Não Sobreviveu', 'Sobreviveu'], loc='upper left', fontsize='small')\n",
    "plt.tight_layout()\n",
    "\n",
    "plt.show()"
   ]
  },
  {
   "cell_type": "code",
   "execution_count": 50,
   "metadata": {
    "colab": {
     "base_uri": "https://localhost:8080/",
     "height": 490
    },
    "id": "JFPKPHEV8pli",
    "outputId": "9cb8f230-3c70-4979-bb77-13d6ad6b4c8a"
   },
   "outputs": [
    {
     "data": {
      "text/plain": [
       "<Figure size 1000x800 with 0 Axes>"
      ]
     },
     "metadata": {},
     "output_type": "display_data"
    },
    {
     "data": {
      "image/png": "[encoded data removed]",
      "text/plain": [
       "<Figure size 640x480 with 1 Axes>"
      ]
     },
     "metadata": {},
     "output_type": "display_data"
    }
   ],
   "source": [
    "class_survival = df_test.groupby(['Pclass', 'Survival']).size().unstack()\n",
    "\n",
    "plt.figure(figsize=(10, 8))  # Tamanho do gráfico\n",
    "class_survival.plot(kind='bar', stacked=True, color=['#FF7761', '#5b9bd5'])\n",
    "\n",
    "plt.title('Possível Sobrevivência por Classe de Passageiro')\n",
    "plt.xlabel('Classe')\n",
    "plt.ylabel('Quantidade')\n",
    "plt.xticks(ticks=[0, 1, 2], labels=['1ª', '2ª', '3ª'], rotation=0)\n",
    "plt.legend(['Não Sobreviveu', 'Sobreviveu'], loc='upper left')\n",
    "plt.show()"
   ]
  },
  {
   "cell_type": "markdown",
   "metadata": {},
   "source": [
    "# Exportação da base de dados de teste final"
   ]
  },
  {
   "cell_type": "markdown",
   "metadata": {},
   "source": [
    "Após o cálculo dos possíveis sobreviventes e não sobreviventes no conjunto de teste, o arquivo de teste é carregado novamente, e a coluna com os resultados encontrados, `Survival`, é adicionada ao conjunto de teste inicial.\n",
    "\n",
    "Esse novo arquivo, agora com o atributo alvo, é exportado para o arquivo CSV `test_with_survival.csv`, e pode ser enviado para o cliente caso seja desejado."
   ]
  },
  {
   "cell_type": "code",
   "execution_count": 51,
   "metadata": {},
   "outputs": [],
   "source": [
    "# Carregamento do conjunto de dados de teste\n",
    "df_test_final = pd.read_csv('test.csv')"
   ]
  },
  {
   "cell_type": "code",
   "execution_count": 52,
   "metadata": {},
   "outputs": [],
   "source": [
    "# Adição do atributo 'Survival' no conjunto de teste\n",
    "df_test_final['Survival'] = sobrev_calculados"
   ]
  },
  {
   "cell_type": "code",
   "execution_count": 53,
   "metadata": {
    "id": "IUI7Cro8-UlW"
   },
   "outputs": [],
   "source": [
    "# Exportação para um arquivo CSV\n",
    "df_test_final.to_csv(\"test_with_survival.csv\", index=False)"
   ]
  },
  {
   "cell_type": "code",
   "execution_count": 54,
   "metadata": {
    "colab": {
     "base_uri": "https://localhost:8080/",
     "height": 206
    },
    "id": "0dTC9rKA20G0",
    "outputId": "f8b388fa-6e0f-4e8f-a26e-fac18269668e"
   },
   "outputs": [
    {
     "data": {
      "text/html": [
       "<div>\n",
       "<style scoped>\n",
       "    .dataframe tbody tr th:only-of-type {\n",
       "        vertical-align: middle;\n",
       "    }\n",
       "\n",
       "    .dataframe tbody tr th {\n",
       "        vertical-align: top;\n",
       "    }\n",
       "\n",
       "    .dataframe thead th {\n",
       "        text-align: right;\n",
       "    }\n",
       "</style>\n",
       "<table border=\"1\" class=\"dataframe\">\n",
       "  <thead>\n",
       "    <tr style=\"text-align: right;\">\n",
       "      <th></th>\n",
       "      <th>PassengerId</th>\n",
       "      <th>Pclass</th>\n",
       "      <th>Name</th>\n",
       "      <th>Sex</th>\n",
       "      <th>Age</th>\n",
       "      <th>SibSp</th>\n",
       "      <th>Parch</th>\n",
       "      <th>Ticket</th>\n",
       "      <th>Fare</th>\n",
       "      <th>Cabin</th>\n",
       "      <th>Embarked</th>\n",
       "      <th>Survival</th>\n",
       "    </tr>\n",
       "  </thead>\n",
       "  <tbody>\n",
       "    <tr>\n",
       "      <th>0</th>\n",
       "      <td>892</td>\n",
       "      <td>3</td>\n",
       "      <td>Kelly, Mr. James</td>\n",
       "      <td>male</td>\n",
       "      <td>34.5</td>\n",
       "      <td>0</td>\n",
       "      <td>0</td>\n",
       "      <td>330911</td>\n",
       "      <td>7.8292</td>\n",
       "      <td>NaN</td>\n",
       "      <td>Q</td>\n",
       "      <td>0</td>\n",
       "    </tr>\n",
       "    <tr>\n",
       "      <th>1</th>\n",
       "      <td>893</td>\n",
       "      <td>3</td>\n",
       "      <td>Wilkes, Mrs. James (Ellen Needs)</td>\n",
       "      <td>female</td>\n",
       "      <td>47.0</td>\n",
       "      <td>1</td>\n",
       "      <td>0</td>\n",
       "      <td>363272</td>\n",
       "      <td>7.0000</td>\n",
       "      <td>NaN</td>\n",
       "      <td>S</td>\n",
       "      <td>0</td>\n",
       "    </tr>\n",
       "    <tr>\n",
       "      <th>2</th>\n",
       "      <td>894</td>\n",
       "      <td>2</td>\n",
       "      <td>Myles, Mr. Thomas Francis</td>\n",
       "      <td>male</td>\n",
       "      <td>62.0</td>\n",
       "      <td>0</td>\n",
       "      <td>0</td>\n",
       "      <td>240276</td>\n",
       "      <td>9.6875</td>\n",
       "      <td>NaN</td>\n",
       "      <td>Q</td>\n",
       "      <td>0</td>\n",
       "    </tr>\n",
       "    <tr>\n",
       "      <th>3</th>\n",
       "      <td>895</td>\n",
       "      <td>3</td>\n",
       "      <td>Wirz, Mr. Albert</td>\n",
       "      <td>male</td>\n",
       "      <td>27.0</td>\n",
       "      <td>0</td>\n",
       "      <td>0</td>\n",
       "      <td>315154</td>\n",
       "      <td>8.6625</td>\n",
       "      <td>NaN</td>\n",
       "      <td>S</td>\n",
       "      <td>0</td>\n",
       "    </tr>\n",
       "    <tr>\n",
       "      <th>4</th>\n",
       "      <td>896</td>\n",
       "      <td>3</td>\n",
       "      <td>Hirvonen, Mrs. Alexander (Helga E Lindqvist)</td>\n",
       "      <td>female</td>\n",
       "      <td>22.0</td>\n",
       "      <td>1</td>\n",
       "      <td>1</td>\n",
       "      <td>3101298</td>\n",
       "      <td>12.2875</td>\n",
       "      <td>NaN</td>\n",
       "      <td>S</td>\n",
       "      <td>1</td>\n",
       "    </tr>\n",
       "  </tbody>\n",
       "</table>\n",
       "</div>"
      ],
      "text/plain": [
       "   PassengerId  Pclass                                          Name     Sex  \\\n",
       "0          892       3                              Kelly, Mr. James    male   \n",
       "1          893       3              Wilkes, Mrs. James (Ellen Needs)  female   \n",
       "2          894       2                     Myles, Mr. Thomas Francis    male   \n",
       "3          895       3                              Wirz, Mr. Albert    male   \n",
       "4          896       3  Hirvonen, Mrs. Alexander (Helga E Lindqvist)  female   \n",
       "\n",
       "    Age  SibSp  Parch   Ticket     Fare Cabin Embarked  Survival  \n",
       "0  34.5      0      0   330911   7.8292   NaN        Q         0  \n",
       "1  47.0      1      0   363272   7.0000   NaN        S         0  \n",
       "2  62.0      0      0   240276   9.6875   NaN        Q         0  \n",
       "3  27.0      0      0   315154   8.6625   NaN        S         0  \n",
       "4  22.0      1      1  3101298  12.2875   NaN        S         1  "
      ]
     },
     "execution_count": 54,
     "metadata": {},
     "output_type": "execute_result"
    }
   ],
   "source": [
    "# Observação dos primeiro registros do conjunto de dados de teste, agora com 'Survival'\n",
    "df_test_final.head()"
   ]
  }
 ],
 "metadata": {
  "colab": {
   "collapsed_sections": [
    "OVJgNKUk23oD",
    "XvdI7CENRhLm",
    "D391xfdEG03P"
   ],
   "provenance": []
  },
  "kernelspec": {
   "display_name": "Python 3 (ipykernel)",
   "language": "python",
   "name": "python3"
  },
  "language_info": {
   "codemirror_mode": {
    "name": "ipython",
    "version": 3
   },
   "file_extension": ".py",
   "mimetype": "text/x-python",
   "name": "python",
   "nbconvert_exporter": "python",
   "pygments_lexer": "ipython3",
   "version": "3.11.4"
  }
 },
 "nbformat": 4,
 "nbformat_minor": 4
}
